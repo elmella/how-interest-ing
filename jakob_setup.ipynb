{
 "cells": [
  {
   "cell_type": "markdown",
   "metadata": {},
   "source": [
    "### Data Explanation\n",
    "\n",
    "Bank Prime Loan Rate Changes: Historical Dates of Changes and Rates (PRIME) - Daily, 1955-Jul 2023\n",
    "\n",
    "Real Exports of Goods and Services (A020RL1Q158SBEA) - Quarterly, 1947-Jul 2023\n",
    "\n",
    "Trimmed Mean PCE Inflation Rate (PCETRIM12M159SFRBDAL) -  Monthly, 1978-Oct 2023\n",
    "\n",
    "Unemployment Rate (UNRATE) - Monthly 1948-Oct 2023\n",
    "\n",
    "Real Gross Domestic Product (A191RL1Q225SBEA) - Quarterly 1947-Jul 2023 \n",
    "\n",
    "Total Vehicle Sales (TOTALSA) - Monthly 1976-Oct 2023\n",
    "\n",
    "NBER based Recession Indicators for the United States from the Period following the Peak through the Trough (USREC) - Monthly 1854-Nov 2023\n",
    "\n",
    "Gross Domestic Product: Implicit Price Deflator (A191RI1Q225SBEA)\n",
    "\n",
    "Velocity of M1 Money Stock (M1V) - Quarterly 1959-Jul 2023\n",
    "\n",
    "New Privately-Owned Housing Units Started: Total Units (HOUST) - Monthly 1959-Oct 2023\n",
    "\n",
    "Leading Indicators OECD: Leading indicators: CLI: Amplitude adjusted for OECD Total (OECDLOLITOAASTSAM) - Monthly 1961-Oct 2023 ***Use data from CSV\n",
    "\n",
    "SPX - S&P 500 Adjusted closing price\n",
    "\n",
    "USD - US Dollar Index for the international value of the US dollar relative to a basket of world currencies\n",
    "\n",
    "fed_party- political party of Fed Chair (1=Republican)\n",
    "\n",
    "potus_party - party of US President (1=Republican)"
   ]
  },
  {
   "cell_type": "code",
   "execution_count": 4,
   "metadata": {
    "ExecuteTime": {
     "end_time": "2023-12-06T03:28:54.294689Z",
     "start_time": "2023-12-06T03:28:54.278812600Z"
    }
   },
   "outputs": [],
   "source": [
    "import pandas as pd"
   ]
  },
  {
   "cell_type": "code",
   "execution_count": 5,
   "metadata": {
    "ExecuteTime": {
     "end_time": "2023-12-06T03:28:54.881412700Z",
     "start_time": "2023-12-06T03:28:54.787296300Z"
    }
   },
   "outputs": [
    {
     "data": {
      "text/plain": "            ffr  change  decision  loan  exports   pce   ue  rgdp    cars  \\\n1989-01-01  NaN     NaN       NaN   NaN      NaN   NaN  NaN   NaN     NaN   \n1989-01-02  NaN     NaN       NaN   NaN     12.5  4.05  5.4   4.1  15.372   \n1989-01-03  NaN     NaN       NaN   NaN     12.5  4.05  5.4   4.1  15.372   \n1989-01-04  NaN     NaN       NaN   NaN     12.5  4.05  5.4   4.1  15.372   \n1989-01-05  NaN     NaN       NaN   NaN     12.5  4.05  5.4   4.1  15.372   \n...         ...     ...       ...   ...      ...   ...  ...   ...     ...   \n2023-11-30  NaN     NaN       NaN   8.5      6.0  3.64  3.9   5.2  15.972   \n2023-12-01  NaN     NaN       NaN   8.5      6.0  3.64  3.9   5.2  15.972   \n2023-12-02  NaN     NaN       NaN   8.5      6.0  3.64  3.9   5.2  15.972   \n2023-12-03  NaN     NaN       NaN   8.5      6.0  3.64  3.9   5.2  15.972   \n2023-12-04  NaN     NaN       NaN   8.5      6.0  3.64  3.9   5.2  15.972   \n\n            recess  gdpg  veloc   house        cli          spx         usd  \\\n1989-01-01     NaN   NaN    NaN     NaN        NaN          NaN         NaN   \n1989-01-02     0.0   4.2  7.028  1621.0  100.53120          NaN         NaN   \n1989-01-03     0.0   4.2  7.028  1621.0  100.53120          NaN   92.500000   \n1989-01-04     0.0   4.2  7.028  1621.0  100.53120   275.309998   92.169998   \n1989-01-05     0.0   4.2  7.028  1621.0  100.53120   279.429993   92.980003   \n...            ...   ...    ...     ...        ...          ...         ...   \n2023-11-30     0.0   3.5  1.511  1372.0   99.47179  4550.580078  102.769997   \n2023-12-01     0.0   3.5  1.511  1372.0   99.47179  4567.799805  103.500000   \n2023-12-02     0.0   3.5  1.511  1372.0   99.47179  4594.629883  103.269997   \n2023-12-03     0.0   3.5  1.511  1372.0   99.47179  4594.629883  103.269997   \n2023-12-04     0.0   3.5  1.511  1372.0   99.47179  4594.629883  103.269997   \n\n            fed_party  potus_party  \n1989-01-01        NaN          NaN  \n1989-01-02        NaN          NaN  \n1989-01-03        NaN          NaN  \n1989-01-04        NaN          NaN  \n1989-01-05        NaN          NaN  \n...               ...          ...  \n2023-11-30        1.0          0.0  \n2023-12-01        1.0          0.0  \n2023-12-02        1.0          0.0  \n2023-12-03        1.0          0.0  \n2023-12-04        1.0          0.0  \n\n[12756 rows x 18 columns]",
      "text/html": "<div>\n<style scoped>\n    .dataframe tbody tr th:only-of-type {\n        vertical-align: middle;\n    }\n\n    .dataframe tbody tr th {\n        vertical-align: top;\n    }\n\n    .dataframe thead th {\n        text-align: right;\n    }\n</style>\n<table border=\"1\" class=\"dataframe\">\n  <thead>\n    <tr style=\"text-align: right;\">\n      <th></th>\n      <th>ffr</th>\n      <th>change</th>\n      <th>decision</th>\n      <th>loan</th>\n      <th>exports</th>\n      <th>pce</th>\n      <th>ue</th>\n      <th>rgdp</th>\n      <th>cars</th>\n      <th>recess</th>\n      <th>gdpg</th>\n      <th>veloc</th>\n      <th>house</th>\n      <th>cli</th>\n      <th>spx</th>\n      <th>usd</th>\n      <th>fed_party</th>\n      <th>potus_party</th>\n    </tr>\n  </thead>\n  <tbody>\n    <tr>\n      <th>1989-01-01</th>\n      <td>NaN</td>\n      <td>NaN</td>\n      <td>NaN</td>\n      <td>NaN</td>\n      <td>NaN</td>\n      <td>NaN</td>\n      <td>NaN</td>\n      <td>NaN</td>\n      <td>NaN</td>\n      <td>NaN</td>\n      <td>NaN</td>\n      <td>NaN</td>\n      <td>NaN</td>\n      <td>NaN</td>\n      <td>NaN</td>\n      <td>NaN</td>\n      <td>NaN</td>\n      <td>NaN</td>\n    </tr>\n    <tr>\n      <th>1989-01-02</th>\n      <td>NaN</td>\n      <td>NaN</td>\n      <td>NaN</td>\n      <td>NaN</td>\n      <td>12.5</td>\n      <td>4.05</td>\n      <td>5.4</td>\n      <td>4.1</td>\n      <td>15.372</td>\n      <td>0.0</td>\n      <td>4.2</td>\n      <td>7.028</td>\n      <td>1621.0</td>\n      <td>100.53120</td>\n      <td>NaN</td>\n      <td>NaN</td>\n      <td>NaN</td>\n      <td>NaN</td>\n    </tr>\n    <tr>\n      <th>1989-01-03</th>\n      <td>NaN</td>\n      <td>NaN</td>\n      <td>NaN</td>\n      <td>NaN</td>\n      <td>12.5</td>\n      <td>4.05</td>\n      <td>5.4</td>\n      <td>4.1</td>\n      <td>15.372</td>\n      <td>0.0</td>\n      <td>4.2</td>\n      <td>7.028</td>\n      <td>1621.0</td>\n      <td>100.53120</td>\n      <td>NaN</td>\n      <td>92.500000</td>\n      <td>NaN</td>\n      <td>NaN</td>\n    </tr>\n    <tr>\n      <th>1989-01-04</th>\n      <td>NaN</td>\n      <td>NaN</td>\n      <td>NaN</td>\n      <td>NaN</td>\n      <td>12.5</td>\n      <td>4.05</td>\n      <td>5.4</td>\n      <td>4.1</td>\n      <td>15.372</td>\n      <td>0.0</td>\n      <td>4.2</td>\n      <td>7.028</td>\n      <td>1621.0</td>\n      <td>100.53120</td>\n      <td>275.309998</td>\n      <td>92.169998</td>\n      <td>NaN</td>\n      <td>NaN</td>\n    </tr>\n    <tr>\n      <th>1989-01-05</th>\n      <td>NaN</td>\n      <td>NaN</td>\n      <td>NaN</td>\n      <td>NaN</td>\n      <td>12.5</td>\n      <td>4.05</td>\n      <td>5.4</td>\n      <td>4.1</td>\n      <td>15.372</td>\n      <td>0.0</td>\n      <td>4.2</td>\n      <td>7.028</td>\n      <td>1621.0</td>\n      <td>100.53120</td>\n      <td>279.429993</td>\n      <td>92.980003</td>\n      <td>NaN</td>\n      <td>NaN</td>\n    </tr>\n    <tr>\n      <th>...</th>\n      <td>...</td>\n      <td>...</td>\n      <td>...</td>\n      <td>...</td>\n      <td>...</td>\n      <td>...</td>\n      <td>...</td>\n      <td>...</td>\n      <td>...</td>\n      <td>...</td>\n      <td>...</td>\n      <td>...</td>\n      <td>...</td>\n      <td>...</td>\n      <td>...</td>\n      <td>...</td>\n      <td>...</td>\n      <td>...</td>\n    </tr>\n    <tr>\n      <th>2023-11-30</th>\n      <td>NaN</td>\n      <td>NaN</td>\n      <td>NaN</td>\n      <td>8.5</td>\n      <td>6.0</td>\n      <td>3.64</td>\n      <td>3.9</td>\n      <td>5.2</td>\n      <td>15.972</td>\n      <td>0.0</td>\n      <td>3.5</td>\n      <td>1.511</td>\n      <td>1372.0</td>\n      <td>99.47179</td>\n      <td>4550.580078</td>\n      <td>102.769997</td>\n      <td>1.0</td>\n      <td>0.0</td>\n    </tr>\n    <tr>\n      <th>2023-12-01</th>\n      <td>NaN</td>\n      <td>NaN</td>\n      <td>NaN</td>\n      <td>8.5</td>\n      <td>6.0</td>\n      <td>3.64</td>\n      <td>3.9</td>\n      <td>5.2</td>\n      <td>15.972</td>\n      <td>0.0</td>\n      <td>3.5</td>\n      <td>1.511</td>\n      <td>1372.0</td>\n      <td>99.47179</td>\n      <td>4567.799805</td>\n      <td>103.500000</td>\n      <td>1.0</td>\n      <td>0.0</td>\n    </tr>\n    <tr>\n      <th>2023-12-02</th>\n      <td>NaN</td>\n      <td>NaN</td>\n      <td>NaN</td>\n      <td>8.5</td>\n      <td>6.0</td>\n      <td>3.64</td>\n      <td>3.9</td>\n      <td>5.2</td>\n      <td>15.972</td>\n      <td>0.0</td>\n      <td>3.5</td>\n      <td>1.511</td>\n      <td>1372.0</td>\n      <td>99.47179</td>\n      <td>4594.629883</td>\n      <td>103.269997</td>\n      <td>1.0</td>\n      <td>0.0</td>\n    </tr>\n    <tr>\n      <th>2023-12-03</th>\n      <td>NaN</td>\n      <td>NaN</td>\n      <td>NaN</td>\n      <td>8.5</td>\n      <td>6.0</td>\n      <td>3.64</td>\n      <td>3.9</td>\n      <td>5.2</td>\n      <td>15.972</td>\n      <td>0.0</td>\n      <td>3.5</td>\n      <td>1.511</td>\n      <td>1372.0</td>\n      <td>99.47179</td>\n      <td>4594.629883</td>\n      <td>103.269997</td>\n      <td>1.0</td>\n      <td>0.0</td>\n    </tr>\n    <tr>\n      <th>2023-12-04</th>\n      <td>NaN</td>\n      <td>NaN</td>\n      <td>NaN</td>\n      <td>8.5</td>\n      <td>6.0</td>\n      <td>3.64</td>\n      <td>3.9</td>\n      <td>5.2</td>\n      <td>15.972</td>\n      <td>0.0</td>\n      <td>3.5</td>\n      <td>1.511</td>\n      <td>1372.0</td>\n      <td>99.47179</td>\n      <td>4594.629883</td>\n      <td>103.269997</td>\n      <td>1.0</td>\n      <td>0.0</td>\n    </tr>\n  </tbody>\n</table>\n<p>12756 rows × 18 columns</p>\n</div>"
     },
     "execution_count": 5,
     "metadata": {},
     "output_type": "execute_result"
    }
   ],
   "source": [
    "# properly read in data\n",
    "df = pd.read_csv('master_data.csv', index_col=0)\n",
    "df.index = pd.to_datetime(df.index)\n",
    "df"
   ]
  },
  {
   "cell_type": "code",
   "execution_count": 60,
   "metadata": {
    "ExecuteTime": {
     "end_time": "2023-12-06T04:37:26.311375800Z",
     "start_time": "2023-12-06T04:37:26.287480500Z"
    }
   },
   "outputs": [],
   "source": [
    "# prep a df to be used for classifying\n",
    "# n_days is how many days prior to the announcement you want to forecast\n",
    "def forecast_n_days_prior(df, n_days = 7):\n",
    "    df_temp = df.copy()\n",
    "    df_temp.iloc[:,:3] = df_temp.iloc[:,:3].shift(-n_days)\n",
    "    return df_temp.query('ffr == ffr')"
   ]
  },
  {
   "cell_type": "code",
   "execution_count": 61,
   "metadata": {
    "ExecuteTime": {
     "end_time": "2023-12-06T04:37:26.690271800Z",
     "start_time": "2023-12-06T04:37:26.661491500Z"
    }
   },
   "outputs": [],
   "source": [
    "# demonstration of function above\n",
    "# forecasts 1 week prior to announcement\n",
    "days_prior = forecast_n_days_prior(df, 7)"
   ]
  },
  {
   "cell_type": "code",
   "execution_count": 67,
   "outputs": [
    {
     "data": {
      "text/plain": "(276, 18)"
     },
     "execution_count": 67,
     "metadata": {},
     "output_type": "execute_result"
    }
   ],
   "source": [
    "\n",
    "days_prior.shape"
   ],
   "metadata": {
    "collapsed": false,
    "ExecuteTime": {
     "end_time": "2023-12-06T04:37:59.277306900Z",
     "start_time": "2023-12-06T04:37:59.260774100Z"
    }
   }
  },
  {
   "cell_type": "code",
   "execution_count": 62,
   "outputs": [
    {
     "data": {
      "text/plain": "Index(['ffr', 'change', 'decision', 'loan', 'exports', 'pce', 'ue', 'rgdp',\n       'cars', 'recess', 'gdpg', 'veloc', 'house', 'cli', 'spx', 'usd',\n       'fed_party', 'potus_party'],\n      dtype='object')"
     },
     "execution_count": 62,
     "metadata": {},
     "output_type": "execute_result"
    }
   ],
   "source": [
    "days_prior.columns"
   ],
   "metadata": {
    "collapsed": false,
    "ExecuteTime": {
     "end_time": "2023-12-06T04:37:28.049486100Z",
     "start_time": "2023-12-06T04:37:27.874199500Z"
    }
   }
  },
  {
   "cell_type": "code",
   "execution_count": 83,
   "outputs": [
    {
     "name": "stdout",
     "output_type": "stream",
     "text": [
      "(276, 14)\n"
     ]
    },
    {
     "data": {
      "text/plain": "(276, 4)"
     },
     "execution_count": 83,
     "metadata": {},
     "output_type": "execute_result"
    }
   ],
   "source": [
    "df_numeric = days_prior.drop(['decision', 'recess', 'fed_party', 'potus_party'], axis=1)\n",
    "print(df_numeric.shape)\n",
    "scaler = StandardScaler()\n",
    "df_numeric = scaler.fit_transform(df_numeric)\n",
    "df_numeric = pd.DataFrame(df_numeric, index=days_prior.index)\n",
    "\n",
    "df_encoded = days_prior[['decision', 'recess', 'fed_party', 'potus_party']]\n",
    "df_encoded.shape"
   ],
   "metadata": {
    "collapsed": false,
    "ExecuteTime": {
     "end_time": "2023-12-06T04:45:46.551307600Z",
     "start_time": "2023-12-06T04:45:46.525132400Z"
    }
   }
  },
  {
   "cell_type": "code",
   "execution_count": 84,
   "outputs": [
    {
     "data": {
      "text/plain": "(276, 4)"
     },
     "execution_count": 84,
     "metadata": {},
     "output_type": "execute_result"
    }
   ],
   "source": [
    "df_categorical = df_encoded.astype(str)\n",
    "df_categorical.dtypes\n",
    "df_categorical.shape"
   ],
   "metadata": {
    "collapsed": false,
    "ExecuteTime": {
     "end_time": "2023-12-06T04:45:48.483944500Z",
     "start_time": "2023-12-06T04:45:48.483944500Z"
    }
   }
  },
  {
   "cell_type": "code",
   "execution_count": 84,
   "outputs": [],
   "source": [],
   "metadata": {
    "collapsed": false,
    "ExecuteTime": {
     "end_time": "2023-12-06T04:45:49.728878900Z",
     "start_time": "2023-12-06T04:45:49.712862400Z"
    }
   }
  },
  {
   "cell_type": "code",
   "execution_count": 87,
   "outputs": [
    {
     "data": {
      "text/plain": "DatetimeIndex(['1989-06-30', '1989-08-16', '1989-09-27', '1989-11-08',\n               '1989-12-13', '1990-02-01', '1990-03-21', '1990-05-09',\n               '1990-06-28', '1990-08-15',\n               ...\n               '2022-09-14', '2022-10-26', '2022-12-07', '2023-01-25',\n               '2023-03-15', '2023-04-26', '2023-06-07', '2023-07-19',\n               '2023-09-13', '2023-10-25'],\n              dtype='datetime64[ns]', length=276, freq=None)"
     },
     "execution_count": 87,
     "metadata": {},
     "output_type": "execute_result"
    }
   ],
   "source": [
    "df_numeric.index"
   ],
   "metadata": {
    "collapsed": false,
    "ExecuteTime": {
     "end_time": "2023-12-06T04:45:58.144544700Z",
     "start_time": "2023-12-06T04:45:58.081068600Z"
    }
   }
  },
  {
   "cell_type": "code",
   "execution_count": 88,
   "outputs": [
    {
     "name": "stdout",
     "output_type": "stream",
     "text": [
      "0              float64\n",
      "1              float64\n",
      "2              float64\n",
      "3              float64\n",
      "4              float64\n",
      "5              float64\n",
      "6              float64\n",
      "7              float64\n",
      "8              float64\n",
      "9              float64\n",
      "10             float64\n",
      "11             float64\n",
      "12             float64\n",
      "13             float64\n",
      "decision        object\n",
      "recess          object\n",
      "fed_party       object\n",
      "potus_party     object\n",
      "dtype: object\n"
     ]
    },
    {
     "data": {
      "text/plain": "(276, 18)"
     },
     "execution_count": 88,
     "metadata": {},
     "output_type": "execute_result"
    }
   ],
   "source": [
    "days_prior_mixed = pd.concat([df_numeric, df_categorical], axis=1)\n",
    "print(days_prior_mixed.dtypes)\n",
    "days_prior_mixed.shape"
   ],
   "metadata": {
    "collapsed": false,
    "ExecuteTime": {
     "end_time": "2023-12-06T04:45:58.549643300Z",
     "start_time": "2023-12-06T04:45:58.517952Z"
    }
   }
  },
  {
   "cell_type": "code",
   "execution_count": 90,
   "outputs": [
    {
     "data": {
      "text/plain": "(276, 18)"
     },
     "execution_count": 90,
     "metadata": {},
     "output_type": "execute_result"
    }
   ],
   "source": [
    "days_prior_mixed.shape"
   ],
   "metadata": {
    "collapsed": false,
    "ExecuteTime": {
     "end_time": "2023-12-06T04:46:05.004991500Z",
     "start_time": "2023-12-06T04:46:04.977604300Z"
    }
   }
  },
  {
   "cell_type": "code",
   "execution_count": 91,
   "outputs": [
    {
     "data": {
      "text/plain": "          eigenvalue % of variance % of variance (cumulative)\ncomponent                                                    \n0              4.120        22.27%                     22.27%\n1              3.467        18.74%                     41.01%\n2              2.397        12.96%                     53.97%\n3              2.167        11.71%                     65.68%\n4              1.497         8.09%                     73.78%\n5              1.050         5.67%                     79.45%\n6              0.924         5.00%                     84.45%",
      "text/html": "<div>\n<style scoped>\n    .dataframe tbody tr th:only-of-type {\n        vertical-align: middle;\n    }\n\n    .dataframe tbody tr th {\n        vertical-align: top;\n    }\n\n    .dataframe thead th {\n        text-align: right;\n    }\n</style>\n<table border=\"1\" class=\"dataframe\">\n  <thead>\n    <tr style=\"text-align: right;\">\n      <th></th>\n      <th>eigenvalue</th>\n      <th>% of variance</th>\n      <th>% of variance (cumulative)</th>\n    </tr>\n    <tr>\n      <th>component</th>\n      <th></th>\n      <th></th>\n      <th></th>\n    </tr>\n  </thead>\n  <tbody>\n    <tr>\n      <th>0</th>\n      <td>4.120</td>\n      <td>22.27%</td>\n      <td>22.27%</td>\n    </tr>\n    <tr>\n      <th>1</th>\n      <td>3.467</td>\n      <td>18.74%</td>\n      <td>41.01%</td>\n    </tr>\n    <tr>\n      <th>2</th>\n      <td>2.397</td>\n      <td>12.96%</td>\n      <td>53.97%</td>\n    </tr>\n    <tr>\n      <th>3</th>\n      <td>2.167</td>\n      <td>11.71%</td>\n      <td>65.68%</td>\n    </tr>\n    <tr>\n      <th>4</th>\n      <td>1.497</td>\n      <td>8.09%</td>\n      <td>73.78%</td>\n    </tr>\n    <tr>\n      <th>5</th>\n      <td>1.050</td>\n      <td>5.67%</td>\n      <td>79.45%</td>\n    </tr>\n    <tr>\n      <th>6</th>\n      <td>0.924</td>\n      <td>5.00%</td>\n      <td>84.45%</td>\n    </tr>\n  </tbody>\n</table>\n</div>"
     },
     "execution_count": 91,
     "metadata": {},
     "output_type": "execute_result"
    }
   ],
   "source": [
    "# Do PCA Analysis on the data to reduce dimension to 2\n",
    "from sklearn.decomposition import PCA\n",
    "from sklearn.preprocessing import StandardScaler\n",
    "import matplotlib.pyplot as plt\n",
    "from prince import FAMD\n",
    "import numpy as np\n",
    "\n",
    "X = days_prior_mixed.drop(['decision'], axis=1)\n",
    "y = days_prior_mixed['decision']\n",
    "\n",
    "# scaler = StandardScaler()\n",
    "# X_scaled = scaler.fit_transform(X)\n",
    "\n",
    "famd = FAMD(n_components=7)\n",
    "X_famd = famd.fit_transform(X)\n",
    "\n",
    "famd.eigenvalues_summary\n",
    "# explained_variance_ratio = famd.singular_values_ ** 2 / np.sum(famd.singular_values_ ** 2)\n",
    "# print(explained_variance_ratio)"
   ],
   "metadata": {
    "collapsed": false,
    "ExecuteTime": {
     "end_time": "2023-12-06T04:46:06.381606Z",
     "start_time": "2023-12-06T04:46:06.112462200Z"
    }
   }
  },
  {
   "cell_type": "code",
   "execution_count": 49,
   "outputs": [
    {
     "data": {
      "text/plain": "          eigenvalue % of variance % of variance (cumulative)\ncomponent                                                    \n0              3.810        23.09%                     23.09%\n1              2.910        17.64%                     40.73%\n2              2.350        14.24%                     54.97%\n3              2.086        12.65%                     67.61%\n4              1.307         7.92%                     75.53%\n5              0.988         5.99%                     81.52%\n6              0.902         5.47%                     86.99%",
      "text/html": "<div>\n<style scoped>\n    .dataframe tbody tr th:only-of-type {\n        vertical-align: middle;\n    }\n\n    .dataframe tbody tr th {\n        vertical-align: top;\n    }\n\n    .dataframe thead th {\n        text-align: right;\n    }\n</style>\n<table border=\"1\" class=\"dataframe\">\n  <thead>\n    <tr style=\"text-align: right;\">\n      <th></th>\n      <th>eigenvalue</th>\n      <th>% of variance</th>\n      <th>% of variance (cumulative)</th>\n    </tr>\n    <tr>\n      <th>component</th>\n      <th></th>\n      <th></th>\n      <th></th>\n    </tr>\n  </thead>\n  <tbody>\n    <tr>\n      <th>0</th>\n      <td>3.810</td>\n      <td>23.09%</td>\n      <td>23.09%</td>\n    </tr>\n    <tr>\n      <th>1</th>\n      <td>2.910</td>\n      <td>17.64%</td>\n      <td>40.73%</td>\n    </tr>\n    <tr>\n      <th>2</th>\n      <td>2.350</td>\n      <td>14.24%</td>\n      <td>54.97%</td>\n    </tr>\n    <tr>\n      <th>3</th>\n      <td>2.086</td>\n      <td>12.65%</td>\n      <td>67.61%</td>\n    </tr>\n    <tr>\n      <th>4</th>\n      <td>1.307</td>\n      <td>7.92%</td>\n      <td>75.53%</td>\n    </tr>\n    <tr>\n      <th>5</th>\n      <td>0.988</td>\n      <td>5.99%</td>\n      <td>81.52%</td>\n    </tr>\n    <tr>\n      <th>6</th>\n      <td>0.902</td>\n      <td>5.47%</td>\n      <td>86.99%</td>\n    </tr>\n  </tbody>\n</table>\n</div>"
     },
     "execution_count": 49,
     "metadata": {},
     "output_type": "execute_result"
    }
   ],
   "source": [
    "famd.eigenvalues_summary"
   ],
   "metadata": {
    "collapsed": false,
    "ExecuteTime": {
     "end_time": "2023-12-06T04:35:01.454969800Z",
     "start_time": "2023-12-06T04:35:01.410140500Z"
    }
   }
  },
  {
   "cell_type": "code",
   "execution_count": 59,
   "outputs": [],
   "source": [
    "pd.set_option('display.max_rows', 20)    # Show all rows\n",
    "pd.set_option('display.max_columns', None) # Show all columns"
   ],
   "metadata": {
    "collapsed": false,
    "ExecuteTime": {
     "end_time": "2023-12-06T03:22:09.992274500Z",
     "start_time": "2023-12-06T03:22:09.977102400Z"
    }
   }
  },
  {
   "cell_type": "code",
   "execution_count": 92,
   "outputs": [
    {
     "name": "stdout",
     "output_type": "stream",
     "text": [
      "ffr            float64\n",
      "change         float64\n",
      "decision       float64\n",
      "loan           float64\n",
      "exports        float64\n",
      "pce            float64\n",
      "ue             float64\n",
      "rgdp           float64\n",
      "cars           float64\n",
      "recess         float64\n",
      "gdpg           float64\n",
      "veloc          float64\n",
      "house          float64\n",
      "cli            float64\n",
      "spx            float64\n",
      "usd            float64\n",
      "fed_party      float64\n",
      "potus_party    float64\n",
      "dtype: object\n"
     ]
    }
   ],
   "source": [
    "\n",
    "print(days_prior.dtypes)\n"
   ],
   "metadata": {
    "collapsed": false,
    "ExecuteTime": {
     "end_time": "2023-12-06T04:46:28.250342500Z",
     "start_time": "2023-12-06T04:46:28.187285100Z"
    }
   }
  },
  {
   "cell_type": "code",
   "execution_count": 60,
   "outputs": [
    {
     "name": "stdout",
     "output_type": "stream",
     "text": [
      "             ffr  change  decision   loan  exports   pce   ue  rgdp    cars  \\\n",
      "1989-06-30  9.25   -25.0      -1.0  11.00     18.7  4.13  5.3   3.1  14.384   \n",
      "1989-08-16  9.00     0.0       0.0  10.50      4.1  3.95  5.2   3.0  16.547   \n",
      "1989-09-27  9.00     0.0       0.0  10.50      4.1  3.80  5.3   3.0  15.660   \n",
      "1989-11-08  8.50     0.0       0.0  10.50      6.2  3.92  5.4   0.8  13.370   \n",
      "1989-12-13  8.25   -25.0      -1.0  10.50      6.2  3.94  5.4   0.8  13.550   \n",
      "...          ...     ...       ...    ...      ...   ...  ...   ...     ...   \n",
      "2023-04-26  5.15    25.0       1.0   8.00     -9.3  4.88  3.4   2.1  16.210   \n",
      "2023-06-07  5.15     0.0       0.0   8.25     -9.3  4.33  3.6   2.1  16.607   \n",
      "2023-07-19  5.40    25.0       1.0   8.25      6.0  4.17  3.5   5.2  16.446   \n",
      "2023-09-13  5.40     0.0       0.0   8.50      6.0  3.84  3.8   5.2  16.184   \n",
      "2023-10-25  5.40     0.0       0.0   8.50      6.0  3.64  3.9   5.2  15.972   \n",
      "\n",
      "            recess  gdpg  veloc   house       cli          spx         usd  \\\n",
      "1989-06-30     0.0   4.3  7.233  1397.0  99.79815   319.679993  102.339996   \n",
      "1989-08-16     0.0   3.0  7.307  1332.0  99.68832   344.709991  100.989998   \n",
      "1989-09-27     0.0   3.0  7.307  1279.0  99.69093   344.329987   99.199997   \n",
      "1989-11-08     0.0   2.9  7.283  1351.0  99.72887   334.809998   98.120003   \n",
      "1989-12-13     0.0   2.9  7.283  1251.0  99.75903   351.730011   94.660004   \n",
      "...            ...   ...    ...     ...       ...          ...         ...   \n",
      "2023-04-26     0.0   1.7  1.459  1348.0  98.89799  4071.629883  101.860001   \n",
      "2023-06-07     0.0   1.7  1.459  1418.0  99.11828  4283.850098  104.129997   \n",
      "2023-07-19     0.0   3.5  1.511  1451.0  99.24326  4554.979980   99.940002   \n",
      "2023-09-13     0.0   3.5  1.511  1346.0  99.42249  4461.899902  104.709999   \n",
      "2023-10-25     0.0   3.5  1.511  1372.0  99.47179  4247.680176  106.269997   \n",
      "\n",
      "            fed_party  potus_party  \n",
      "1989-06-30        1.0          1.0  \n",
      "1989-08-16        1.0          1.0  \n",
      "1989-09-27        1.0          1.0  \n",
      "1989-11-08        1.0          1.0  \n",
      "1989-12-13        1.0          1.0  \n",
      "...               ...          ...  \n",
      "2023-04-26        1.0          0.0  \n",
      "2023-06-07        1.0          0.0  \n",
      "2023-07-19        1.0          0.0  \n",
      "2023-09-13        1.0          0.0  \n",
      "2023-10-25        1.0          0.0  \n",
      "\n",
      "[276 rows x 18 columns]\n"
     ]
    }
   ],
   "source": [
    "print(days_prior)\n",
    "# change and decision collinear with ffr?\n",
    "# \n",
    "# Categorical:\n",
    "# decision, recess, fed_party, potus_party"
   ],
   "metadata": {
    "collapsed": false,
    "ExecuteTime": {
     "end_time": "2023-12-06T03:22:13.444941300Z",
     "start_time": "2023-12-06T03:22:13.442430800Z"
    }
   }
  },
  {
   "cell_type": "code",
   "execution_count": 43,
   "outputs": [
    {
     "data": {
      "text/plain": "dtype('O')"
     },
     "execution_count": 43,
     "metadata": {},
     "output_type": "execute_result"
    }
   ],
   "source": [],
   "metadata": {
    "collapsed": false,
    "ExecuteTime": {
     "end_time": "2023-12-06T03:47:01.145875600Z",
     "start_time": "2023-12-06T03:47:01.088602700Z"
    }
   }
  },
  {
   "cell_type": "code",
   "execution_count": 93,
   "outputs": [
    {
     "data": {
      "text/plain": "<Figure size 640x480 with 1 Axes>",
      "image/png": "[encoded data removed]"
     },
     "metadata": {},
     "output_type": "display_data"
    }
   ],
   "source": [
    "# Visualize the whole dataset in 2D\n",
    "plt.scatter(X_famd[:][1], X_famd[:][0], c=y.astype(float), cmap='winter')\n",
    "plt.title('FAMD Analysis of Fed Data')\n",
    "plt.xlabel('PC2')\n",
    "plt.ylabel('PC1')\n",
    "plt.show()"
   ],
   "metadata": {
    "collapsed": false,
    "ExecuteTime": {
     "end_time": "2023-12-06T04:46:38.550271300Z",
     "start_time": "2023-12-06T04:46:38.345437200Z"
    }
   }
  },
  {
   "cell_type": "code",
   "execution_count": null,
   "outputs": [],
   "source": [],
   "metadata": {
    "collapsed": false
   }
  }
 ],
 "metadata": {
  "kernelspec": {
   "display_name": "base",
   "language": "python",
   "name": "python3"
  },
  "language_info": {
   "codemirror_mode": {
    "name": "ipython",
    "version": 3
   },
   "file_extension": ".py",
   "mimetype": "text/x-python",
   "name": "python",
   "nbconvert_exporter": "python",
   "pygments_lexer": "ipython3",
   "version": "3.9.13"
  }
 },
 "nbformat": 4,
 "nbformat_minor": 2
}
