{
 "cells": [
  {
   "cell_type": "code",
   "execution_count": 38,
   "metadata": {},
   "outputs": [],
   "source": [
    "import numpy as np\n",
    "import pandas as pd\n",
    "from matplotlib import pyplot as plt\n",
    "from sklearn import linear_model\n",
    "from sklearn.metrics import mean_squared_error, r2_score\n",
    "from sklearn.model_selection import train_test_split\n",
    "import os\n",
    "from dotenv import load_dotenv\n",
    "import pyfredapi as pf\n",
    "import requests\n",
    "import re"
   ]
  },
  {
   "cell_type": "code",
   "execution_count": 3,
   "metadata": {},
   "outputs": [],
   "source": [
    "load_dotenv()\n",
    "# get my FRED_API_KEY from my local environment\n",
    "api_key = os.environ['FRED_API_KEY']"
   ]
  },
  {
   "cell_type": "code",
   "execution_count": 113,
   "metadata": {},
   "outputs": [
    {
     "data": {
      "text/plain": [
       "'\\nBusiness confidence index (BCI) - https://data.oecd.org/leadind/business-confidence-index-bci.htm - 1974\\nConsumer confidence index (CCI) - https://data.oecd.org/leadind/consumer-confidence-index-cci.htm#indicator-chart - 1974\\nComposite leading indicator (CLI) - https://data.oecd.org/leadind/composite-leading-indicator-cli.htm#indicator-chart - 1974\\n'"
      ]
     },
     "execution_count": 113,
     "metadata": {},
     "output_type": "execute_result"
    }
   ],
   "source": [
    "\"\"\"\n",
    "Business confidence index (BCI) - https://data.oecd.org/leadind/business-confidence-index-bci.htm - 1974\n",
    "Consumer confidence index (CCI) - https://data.oecd.org/leadind/consumer-confidence-index-cci.htm#indicator-chart - 1974\n",
    "Composite leading indicator (CLI) - https://data.oecd.org/leadind/composite-leading-indicator-cli.htm#indicator-chart - 1974\n",
    "\"\"\""
   ]
  },
  {
   "cell_type": "code",
   "execution_count": 4,
   "metadata": {},
   "outputs": [],
   "source": [
    "data_sources = \"\"\"\n",
    "(FEDFUNDS)\n",
    "Consumer Price Index for All Urban Consumers: All Items in U.S. City Average (CPIAUCSL)\n",
    "Sticky Price Consumer Price Index less Food and Energy (CORESTICKM159SFRBATL)\n",
    "Sticky Price Consumer Price Index less Food, Energy, and Shelter (CRESTKCPIXSLTRM159SFRBATL)\n",
    "Producer Price Index by Commodity: All Commodities (PPIACO)\n",
    "Personal Consumption Expenditures (PCE) \n",
    "Total Nonfarm Private Payroll Employment (ADPWNUSNERSA)\n",
    "Quarterly Financial Report: U.S. Corporations: All Information: Total Cash on Hand and in U.S. Banks  (QFRTCASHINFUSNO) - only to 2009 \n",
    "Unemployment Rate (UNRATE)\n",
    "Noncyclical Rate of Unemployment (NROU)\n",
    "Unemployment Rate - Women (LNS14000002)\n",
    "Job Openings: Total Nonfarm (JTSJOL) - begins 2000\n",
    "Layoffs and Discharges: Total Nonfarm (JTSLDL) - since 2000 Gross Domestic Product (GDP)\n",
    "Real Gross Domestic Product (GDPC1)\n",
    "Real gross domestic product per capita (A939RX0Q048SBEA)\n",
    "Gross Domestic Product: Implicit Price Deflator (A191RI1Q225SBEA)\n",
    "National Accounts: National Accounts Deflators: Gross Domestic Product: GDP Deflator for United States (USAGDPDEFQISMEI)\n",
    "Advance Retail Sales: Retail Trade and Food Services (RSAFS) - 1992 \n",
    "University of Michigan: Consumer Sentiment (UMCSENT)\n",
    "New Privately-Owned Housing Units Started: Total Units (HOUST)\n",
    "New Privately-Owned Housing Units Started: Single-Family Units (HOUST1F)\n",
    "Total Business Sales (TOTBUSSMSA) -1992\n",
    "\n",
    "Nonfinancial Corporate Business; Inventories Including IVA, Market Value Levels (BOGZ1LM105020005Q)\n",
    "Corporate Profits After Tax -without IVA and CCAdj- (CP)\n",
    " National income: Corporate profits before tax -without IVA and CCAdj- (A053RC1Q027SBEA)\n",
    "Money Market Funds; Total Financial Assets, Level (MMMFFAQ027S)\n",
    "Stock Market Capitalization to GDP for United States (DDDM01USA156NWDB)\n",
    "Interest Rates: Long-Term Government Bond Yields: 10-Year: Main -Including Benchmark- for United States (IRLTLT01USM156N)\n",
    "Nominal Broad U.S. Dollar Index (DTWEXBGS) - 2006\n",
    "Leading Indicators OECD: Leading indicators: CLI: Amplitude adjusted for OECD - Total (OECDLOLITOAASTSAM)\n",
    "Trade Balance: Goods and Services, Balance of Payments Basis (BOPGSTB) - 1992\n",
    "M1 (WM1NS)\n",
    "Velocity of M1 Money Stock (M1V)\n",
    "M2 (WM2NS)\n",
    "\"\"\""
   ]
  },
  {
   "cell_type": "code",
   "execution_count": 5,
   "metadata": {},
   "outputs": [],
   "source": [
    "# Regular expression pattern to match text within parentheses\n",
    "pattern = r\"\\((.*?)\\)\"\n",
    "\n",
    "# Find all matches and store them in a list\n",
    "matches = re.findall(pattern, data_sources)"
   ]
  },
  {
   "cell_type": "code",
   "execution_count": 6,
   "metadata": {},
   "outputs": [],
   "source": [
    "dataframes = {}"
   ]
  },
  {
   "cell_type": "code",
   "execution_count": 32,
   "metadata": {},
   "outputs": [],
   "source": [
    "start = '1990-01-01'\n",
    "# end with the current date\n",
    "end = pd.Timestamp.today().strftime('%Y-%m-%d')\n",
    "\n",
    "extra_parameters = {\n",
    "    \"observation_start\": start,\n",
    "    \"observation_end\": end,\n",
    "}\n",
    "for match in matches:\n",
    "    series_id = match\n",
    "    try:\n",
    "        df = pf.get_series(series_id=series_id, **extra_parameters)[['date', 'value']]\n",
    "        # add the match to the end of the value column name\n",
    "        df.rename(columns={'value': f'value_{match}'}, inplace=True)\n",
    "        # turn the date column into a datetime object\n",
    "        df['date'] = pd.to_datetime(df['date'])\n",
    "\n",
    "        # set the date column as the index\n",
    "        df.set_index('date', inplace=True)\n",
    "        dataframes[series_id] = df\n",
    "\n",
    "    except:\n",
    "        print(f\"Failed to get {series_id}\")\n",
    "# gdp_df = pf.get_series(series_id=\"FEDFUNDS\", **extra_parameters)\n",
    "# display(gdp_df)"
   ]
  },
  {
   "cell_type": "code",
   "execution_count": 35,
   "metadata": {},
   "outputs": [],
   "source": [
    "def align_dataframes(dataframes):\n",
    "    aligned_dfs = []\n",
    "    start_date = '1990-01-01'\n",
    "\n",
    "    for df in dataframes:\n",
    "        # Ensure the index is a DateTimeIndex\n",
    "        if not isinstance(df.index, pd.DatetimeIndex):\n",
    "            df.index = pd.to_datetime(df.index)\n",
    "\n",
    "        # Resample to monthly frequency\n",
    "        # Use 'mean' for downsampling and 'ffill' for upsampling\n",
    "        resampled_df = df.resample('M').mean().ffill()\n",
    "\n",
    "        # Align start date to January 1990, filling missing values with NaN\n",
    "        aligned_df = resampled_df.reindex(pd.date_range(start_date, resampled_df.index.max(), freq='M'), fill_value=np.nan)\n",
    "        \n",
    "        aligned_dfs.append(aligned_df)\n",
    "\n",
    "    return aligned_dfs"
   ]
  },
  {
   "cell_type": "code",
   "execution_count": 37,
   "metadata": {},
   "outputs": [
    {
     "name": "stdout",
     "output_type": "stream",
     "text": [
      "            value_FEDFUNDS  value_CPIAUCSL  value_CORESTICKM159SFRBATL  \\\n",
      "1990-01-31            8.23         127.500                    4.920589   \n",
      "1990-02-28            8.24         128.000                    4.935526   \n",
      "1990-03-31            8.28         128.600                    5.208701   \n",
      "1990-04-30            8.26         128.900                    5.294134   \n",
      "1990-05-31            8.18         129.100                    5.183754   \n",
      "...                    ...             ...                         ...   \n",
      "2023-07-31            5.12         304.348                    5.456089   \n",
      "2023-08-31            5.33         306.269                    5.217343   \n",
      "2023-09-30            5.33         307.481                    5.008782   \n",
      "2023-10-31            5.33         307.619                    4.931956   \n",
      "2023-11-30            5.33             NaN                         NaN   \n",
      "\n",
      "            value_CRESTKCPIXSLTRM159SFRBATL  value_PPIACO  value_PCE  \\\n",
      "1990-01-31                         4.822856       114.900     3730.7   \n",
      "1990-02-28                         5.031079       114.400     3728.2   \n",
      "1990-03-31                         5.303906       114.200     3754.9   \n",
      "1990-04-30                         5.351800       114.100     3770.0   \n",
      "1990-05-31                         5.319868       114.600     3775.8   \n",
      "...                                     ...           ...        ...   \n",
      "2023-07-31                         3.265160       253.805    18621.3   \n",
      "2023-08-31                         3.094960       257.675    18689.9   \n",
      "2023-09-30                         2.919115       258.889    18823.4   \n",
      "2023-10-31                         2.979587       255.463    18864.7   \n",
      "2023-11-30                              NaN           NaN        NaN   \n",
      "\n",
      "            value_ADPWNUSNERSA  value_QFRTCASHINFUSNO  value_UNRATE  \\\n",
      "1990-01-31                 NaN                    NaN           5.4   \n",
      "1990-02-28                 NaN                    NaN           5.3   \n",
      "1990-03-31                 NaN                    NaN           5.2   \n",
      "1990-04-30                 NaN                    NaN           5.4   \n",
      "1990-05-31                 NaN                    NaN           5.4   \n",
      "...                        ...                    ...           ...   \n",
      "2023-07-31         128846600.0                    NaN           3.5   \n",
      "2023-08-31         128955000.0                    NaN           3.8   \n",
      "2023-09-30         129091200.0                    NaN           3.8   \n",
      "2023-10-31         129222250.0                    NaN           3.9   \n",
      "2023-11-30         129343000.0                    NaN           NaN   \n",
      "\n",
      "            value_NROU  ...  value_A053RC1Q027SBEA  value_MMMFFAQ027S  \\\n",
      "1990-01-31    5.732765  ...                389.554           465696.0   \n",
      "1990-02-28    5.732765  ...                389.554           465696.0   \n",
      "1990-03-31    5.732765  ...                389.554           465696.0   \n",
      "1990-04-30    5.713231  ...                406.690           455295.0   \n",
      "1990-05-31    5.713231  ...                406.690           455295.0   \n",
      "...                ...  ...                    ...                ...   \n",
      "2023-07-31    4.421397  ...               3597.857                NaN   \n",
      "2023-08-31    4.421397  ...                    NaN                NaN   \n",
      "2023-09-30    4.421397  ...                    NaN                NaN   \n",
      "2023-10-31    4.418317  ...                    NaN                NaN   \n",
      "2023-11-30         NaN  ...                    NaN                NaN   \n",
      "\n",
      "            value_DDDM01USA156NWDB  value_IRLTLT01USM156N  value_DTWEXBGS  \\\n",
      "1990-01-31                51.87613                   8.21             NaN   \n",
      "1990-02-28                51.87613                   8.47             NaN   \n",
      "1990-03-31                51.87613                   8.59             NaN   \n",
      "1990-04-30                51.87613                   8.79             NaN   \n",
      "1990-05-31                51.87613                   8.76             NaN   \n",
      "...                            ...                    ...             ...   \n",
      "2023-07-31                     NaN                   3.90      118.584800   \n",
      "2023-08-31                     NaN                   4.17      120.378709   \n",
      "2023-09-30                     NaN                   4.38      122.125230   \n",
      "2023-10-31                     NaN                   4.80      123.904114   \n",
      "2023-11-30                     NaN                    NaN      121.974306   \n",
      "\n",
      "            value_OECDLOLITOAASTSAM  value_BOPGSTB  value_WM1NS  value_M1V  \\\n",
      "1990-01-31               100.686551            NaN      805.860      7.356   \n",
      "1990-02-28               100.691920            NaN      786.300      7.356   \n",
      "1990-03-31               100.675582            NaN      793.500      7.356   \n",
      "1990-04-30               100.619091            NaN      813.200      7.391   \n",
      "1990-05-31               100.510613            NaN      795.150      7.391   \n",
      "...                             ...            ...          ...        ...   \n",
      "2023-07-31                      NaN       -64718.0    18345.020      1.511   \n",
      "2023-08-31                      NaN       -58657.0    18232.575        NaN   \n",
      "2023-09-30                      NaN       -61542.0    18153.050        NaN   \n",
      "2023-10-31                      NaN            NaN    18047.300        NaN   \n",
      "2023-11-30                      NaN            NaN    18023.000        NaN   \n",
      "\n",
      "            value_WM2NS  \n",
      "1990-01-31     3173.160  \n",
      "1990-02-28     3169.175  \n",
      "1990-03-31     3189.875  \n",
      "1990-04-30     3216.700  \n",
      "1990-05-31     3186.150  \n",
      "...                 ...  \n",
      "2023-07-31    20749.380  \n",
      "2023-08-31    20718.350  \n",
      "2023-09-30    20703.425  \n",
      "2023-10-31    20674.720  \n",
      "2023-11-30    20718.500  \n",
      "\n",
      "[407 rows x 35 columns]\n"
     ]
    }
   ],
   "source": [
    "dataframes_list = list(dataframes.values())\n",
    "\n",
    "# Align all DataFrames to the same frequency and start date\n",
    "aligned_dataframes = align_dataframes(dataframes_list)\n",
    "\n",
    "# Concatenate all DataFrames along the column axis\n",
    "combined_df = pd.concat(aligned_dataframes, axis=1)\n",
    "\n",
    "# Display the combined DataFrame\n",
    "print(combined_df)\n"
   ]
  },
  {
   "cell_type": "code",
   "execution_count": null,
   "metadata": {},
   "outputs": [],
   "source": [
    "# # get tags\n",
    "# request_url = f'https://api.stlouisfed.org/fred/tags'\n",
    "\n",
    "# params = {\n",
    "#     'api_key': api_key,\n",
    "#     'file_type': 'json',\n",
    "#     'limit': 1000,\n",
    "#     'order_by': 'popularity',\n",
    "#     # 'offset': 0,\n",
    "# }\n",
    "# tags_response = requests.get(request_url, params=params)\n",
    "# # response_json = tags_response.json()\n",
    "# # tags_df = pd.DataFrame(response_json['tags'])\n",
    "# # display(tags_df)\n",
    "# # print(tags_df['name'].to_list())"
   ]
  },
  {
   "cell_type": "code",
   "execution_count": 106,
   "metadata": {},
   "outputs": [],
   "source": [
    "# response_json = tags_response.json()\n",
    "# tags_df = pd.DataFrame(response_json['tags'])\n",
    "# display(tags_df)"
   ]
  },
  {
   "cell_type": "code",
   "execution_count": 107,
   "metadata": {},
   "outputs": [],
   "source": [
    "# request_url = f'https://api.stlouisfed.org/fred/releases'\n",
    "\n",
    "# params = {\n",
    "#     'api_key': api_key,\n",
    "#     'file_type': 'json',\n",
    "#     'limit': 1000,\n",
    "#     # 'offset': 10,\n",
    "# }\n",
    "# response = requests.get(request_url, params=params)\n",
    "# # # print the 'name' for each Release\n",
    "# # for release in response.json()['releases']:\n",
    "# #     print(release['name'])"
   ]
  },
  {
   "cell_type": "code",
   "execution_count": 109,
   "metadata": {},
   "outputs": [],
   "source": [
    "# # Define the path to the Vol 3 Data\n",
    "# folder_path = 'VOL3-DATA'\n",
    "\n",
    "# # Dictionary to hold DataFrames, keyed by file name\n",
    "# dataframes = {}\n",
    "\n",
    "# # Iterate over each file in the folder\n",
    "# for filename in os.listdir(folder_path):\n",
    "#     # Check if the file is a CSV\n",
    "#     if filename.endswith('.csv'):\n",
    "#         file_path = os.path.join(folder_path, filename)\n",
    "#         try:\n",
    "#             # Read the CSV file into a DataFrame, skip bad lines\n",
    "#             dataframes[filename] = pd.read_csv(file_path, on_bad_lines='skip')\n",
    "#         except Exception as e:\n",
    "#             print(f\"Error reading {filename}: {e}\")\n"
   ]
  },
  {
   "cell_type": "markdown",
   "metadata": {},
   "source": []
  }
 ],
 "metadata": {
  "kernelspec": {
   "display_name": "Python 3",
   "language": "python",
   "name": "python3"
  },
  "language_info": {
   "codemirror_mode": {
    "name": "ipython",
    "version": 3
   },
   "file_extension": ".py",
   "mimetype": "text/x-python",
   "name": "python",
   "nbconvert_exporter": "python",
   "pygments_lexer": "ipython3",
   "version": "3.10.13"
  }
 },
 "nbformat": 4,
 "nbformat_minor": 2
}
