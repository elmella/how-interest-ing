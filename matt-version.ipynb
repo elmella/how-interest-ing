{
 "cells": [
  {
   "cell_type": "code",
   "execution_count": 2,
   "metadata": {},
   "outputs": [],
   "source": [
    "import numpy as np\n",
    "import pandas as pd\n",
    "from matplotlib import pyplot as plt\n",
    "from sklearn import linear_model\n",
    "from sklearn.metrics import mean_squared_error, r2_score\n",
    "from sklearn.model_selection import train_test_split\n",
    "import os\n",
    "from dotenv import load_dotenv\n",
    "import pyfredapi as pf\n",
    "import requests\n",
    "import re"
   ]
  },
  {
   "cell_type": "code",
   "execution_count": 3,
   "metadata": {},
   "outputs": [],
   "source": [
    "load_dotenv()\n",
    "# get my FRED_API_KEY from my local environment\n",
    "api_key = os.environ['FRED_API_KEY']"
   ]
  },
  {
   "cell_type": "code",
   "execution_count": 113,
   "metadata": {},
   "outputs": [
    {
     "data": {
      "text/plain": [
       "'\\nBusiness confidence index (BCI) - https://data.oecd.org/leadind/business-confidence-index-bci.htm - 1974\\nConsumer confidence index (CCI) - https://data.oecd.org/leadind/consumer-confidence-index-cci.htm#indicator-chart - 1974\\nComposite leading indicator (CLI) - https://data.oecd.org/leadind/composite-leading-indicator-cli.htm#indicator-chart - 1974\\n'"
      ]
     },
     "execution_count": 113,
     "metadata": {},
     "output_type": "execute_result"
    }
   ],
   "source": [
    "\"\"\"\n",
    "Business confidence index (BCI) - https://data.oecd.org/leadind/business-confidence-index-bci.htm - 1974\n",
    "Consumer confidence index (CCI) - https://data.oecd.org/leadind/consumer-confidence-index-cci.htm#indicator-chart - 1974\n",
    "Composite leading indicator (CLI) - https://data.oecd.org/leadind/composite-leading-indicator-cli.htm#indicator-chart - 1974\n",
    "\"\"\""
   ]
  },
  {
   "cell_type": "code",
   "execution_count": 4,
   "metadata": {},
   "outputs": [],
   "source": [
    "data_sources = \"\"\"\n",
    "(FEDFUNDS)\n",
    "Consumer Price Index for All Urban Consumers: All Items in U.S. City Average (CPIAUCSL)\n",
    "Sticky Price Consumer Price Index less Food and Energy (CORESTICKM159SFRBATL)\n",
    "Sticky Price Consumer Price Index less Food, Energy, and Shelter (CRESTKCPIXSLTRM159SFRBATL)\n",
    "Producer Price Index by Commodity: All Commodities (PPIACO)\n",
    "Personal Consumption Expenditures (PCE) \n",
    "Total Nonfarm Private Payroll Employment (ADPWNUSNERSA)\n",
    "Quarterly Financial Report: U.S. Corporations: All Information: Total Cash on Hand and in U.S. Banks  (QFRTCASHINFUSNO) - only to 2009 \n",
    "Unemployment Rate (UNRATE)\n",
    "Noncyclical Rate of Unemployment (NROU)\n",
    "Unemployment Rate - Women (LNS14000002)\n",
    "Job Openings: Total Nonfarm (JTSJOL) - begins 2000\n",
    "Layoffs and Discharges: Total Nonfarm (JTSLDL) - since 2000 Gross Domestic Product (GDP)\n",
    "Real Gross Domestic Product (GDPC1)\n",
    "Real gross domestic product per capita (A939RX0Q048SBEA)\n",
    "Gross Domestic Product: Implicit Price Deflator (A191RI1Q225SBEA)\n",
    "National Accounts: National Accounts Deflators: Gross Domestic Product: GDP Deflator for United States (USAGDPDEFQISMEI)\n",
    "Advance Retail Sales: Retail Trade and Food Services (RSAFS) - 1992 \n",
    "University of Michigan: Consumer Sentiment (UMCSENT)\n",
    "New Privately-Owned Housing Units Started: Total Units (HOUST)\n",
    "New Privately-Owned Housing Units Started: Single-Family Units (HOUST1F)\n",
    "Total Business Sales (TOTBUSSMSA) -1992\n",
    "\n",
    "Nonfinancial Corporate Business; Inventories Including IVA, Market Value Levels (BOGZ1LM105020005Q)\n",
    "Corporate Profits After Tax -without IVA and CCAdj- (CP)\n",
    " National income: Corporate profits before tax -without IVA and CCAdj- (A053RC1Q027SBEA)\n",
    "Money Market Funds; Total Financial Assets, Level (MMMFFAQ027S)\n",
    "Stock Market Capitalization to GDP for United States (DDDM01USA156NWDB)\n",
    "Interest Rates: Long-Term Government Bond Yields: 10-Year: Main -Including Benchmark- for United States (IRLTLT01USM156N)\n",
    "Nominal Broad U.S. Dollar Index (DTWEXBGS) - 2006\n",
    "Leading Indicators OECD: Leading indicators: CLI: Amplitude adjusted for OECD - Total (OECDLOLITOAASTSAM)\n",
    "Trade Balance: Goods and Services, Balance of Payments Basis (BOPGSTB) - 1992\n",
    "M1 (WM1NS)\n",
    "Velocity of M1 Money Stock (M1V)\n",
    "M2 (WM2NS)\n",
    "\"\"\""
   ]
  },
  {
   "cell_type": "code",
   "execution_count": 5,
   "metadata": {},
   "outputs": [],
   "source": [
    "# Regular expression pattern to match text within parentheses\n",
    "pattern = r\"\\((.*?)\\)\"\n",
    "\n",
    "# Find all matches and store them in a list\n",
    "matches = re.findall(pattern, data_sources)"
   ]
  },
  {
   "cell_type": "code",
   "execution_count": 6,
   "metadata": {},
   "outputs": [],
   "source": [
    "dataframes = {}"
   ]
  },
  {
   "cell_type": "code",
   "execution_count": 32,
   "metadata": {},
   "outputs": [],
   "source": [
    "start = '1990-01-01'\n",
    "# end with the current date\n",
    "end = pd.Timestamp.today().strftime('%Y-%m-%d')\n",
    "\n",
    "extra_parameters = {\n",
    "    \"observation_start\": start,\n",
    "    \"observation_end\": end,\n",
    "}\n",
    "for match in matches:\n",
    "    series_id = match\n",
    "    try:\n",
    "        df = pf.get_series(series_id=series_id, **extra_parameters)[['date', 'value']]\n",
    "        # add the match to the end of the value column name\n",
    "        df.rename(columns={'value': f'value_{match}'}, inplace=True)\n",
    "        # turn the date column into a datetime object\n",
    "        df['date'] = pd.to_datetime(df['date'])\n",
    "\n",
    "        # set the date column as the index\n",
    "        df.set_index('date', inplace=True)\n",
    "        dataframes[series_id] = df\n",
    "\n",
    "    except:\n",
    "        print(f\"Failed to get {series_id}\")\n",
    "# gdp_df = pf.get_series(series_id=\"FEDFUNDS\", **extra_parameters)\n",
    "# display(gdp_df)"
   ]
  },
  {
   "cell_type": "code",
   "execution_count": 35,
   "metadata": {},
   "outputs": [],
   "source": [
    "def align_dataframes(dataframes):\n",
    "    aligned_dfs = []\n",
    "    start_date = '1990-01-01'\n",
    "\n",
    "    for df in dataframes:\n",
    "        # Ensure the index is a DateTimeIndex\n",
    "        if not isinstance(df.index, pd.DatetimeIndex):\n",
    "            df.index = pd.to_datetime(df.index)\n",
    "\n",
    "        # Resample to monthly frequency\n",
    "        # Use 'mean' for downsampling and 'ffill' for upsampling\n",
    "        resampled_df = df.resample('M').mean().ffill()\n",
    "\n",
    "        # Align start date to January 1990, filling missing values with NaN\n",
    "        aligned_df = resampled_df.reindex(pd.date_range(start_date, resampled_df.index.max(), freq='M'), fill_value=np.nan)\n",
    "        \n",
    "        aligned_dfs.append(aligned_df)\n",
    "\n",
    "    return aligned_dfs"
   ]
  },
  {
   "cell_type": "code",
   "execution_count": 37,
   "metadata": {},
   "outputs": [
    {
     "name": "stdout",
     "output_type": "stream",
     "text": [
      "            value_FEDFUNDS  value_CPIAUCSL  value_CORESTICKM159SFRBATL  \\\n",
      "1990-01-31            8.23         127.500                    4.920589   \n",
      "1990-02-28            8.24         128.000                    4.935526   \n",
      "1990-03-31            8.28         128.600                    5.208701   \n",
      "1990-04-30            8.26         128.900                    5.294134   \n",
      "1990-05-31            8.18         129.100                    5.183754   \n",
      "...                    ...             ...                         ...   \n",
      "2023-07-31            5.12         304.348                    5.456089   \n",
      "2023-08-31            5.33         306.269                    5.217343   \n",
      "2023-09-30            5.33         307.481                    5.008782   \n",
      "2023-10-31            5.33         307.619                    4.931956   \n",
      "2023-11-30            5.33             NaN                         NaN   \n",
      "\n",
      "            value_CRESTKCPIXSLTRM159SFRBATL  value_PPIACO  value_PCE  \\\n",
      "1990-01-31                         4.822856       114.900     3730.7   \n",
      "1990-02-28                         5.031079       114.400     3728.2   \n",
      "1990-03-31                         5.303906       114.200     3754.9   \n",
      "1990-04-30                         5.351800       114.100     3770.0   \n",
      "1990-05-31                         5.319868       114.600     3775.8   \n",
      "...                                     ...           ...        ...   \n",
      "2023-07-31                         3.265160       253.805    18621.3   \n",
      "2023-08-31                         3.094960       257.675    18689.9   \n",
      "2023-09-30                         2.919115       258.889    18823.4   \n",
      "2023-10-31                         2.979587       255.463    18864.7   \n",
      "2023-11-30                              NaN           NaN        NaN   \n",
      "\n",
      "            value_ADPWNUSNERSA  value_QFRTCASHINFUSNO  value_UNRATE  \\\n",
      "1990-01-31                 NaN                    NaN           5.4   \n",
      "1990-02-28                 NaN                    NaN           5.3   \n",
      "1990-03-31                 NaN                    NaN           5.2   \n",
      "1990-04-30                 NaN                    NaN           5.4   \n",
      "1990-05-31                 NaN                    NaN           5.4   \n",
      "...                        ...                    ...           ...   \n",
      "2023-07-31         128846600.0                    NaN           3.5   \n",
      "2023-08-31         128955000.0                    NaN           3.8   \n",
      "2023-09-30         129091200.0                    NaN           3.8   \n",
      "2023-10-31         129222250.0                    NaN           3.9   \n",
      "2023-11-30         129343000.0                    NaN           NaN   \n",
      "\n",
      "            value_NROU  ...  value_A053RC1Q027SBEA  value_MMMFFAQ027S  \\\n",
      "1990-01-31    5.732765  ...                389.554           465696.0   \n",
      "1990-02-28    5.732765  ...                389.554           465696.0   \n",
      "1990-03-31    5.732765  ...                389.554           465696.0   \n",
      "1990-04-30    5.713231  ...                406.690           455295.0   \n",
      "1990-05-31    5.713231  ...                406.690           455295.0   \n",
      "...                ...  ...                    ...                ...   \n",
      "2023-07-31    4.421397  ...               3597.857                NaN   \n",
      "2023-08-31    4.421397  ...                    NaN                NaN   \n",
      "2023-09-30    4.421397  ...                    NaN                NaN   \n",
      "2023-10-31    4.418317  ...                    NaN                NaN   \n",
      "2023-11-30         NaN  ...                    NaN                NaN   \n",
      "\n",
      "            value_DDDM01USA156NWDB  value_IRLTLT01USM156N  value_DTWEXBGS  \\\n",
      "1990-01-31                51.87613                   8.21             NaN   \n",
      "1990-02-28                51.87613                   8.47             NaN   \n",
      "1990-03-31                51.87613                   8.59             NaN   \n",
      "1990-04-30                51.87613                   8.79             NaN   \n",
      "1990-05-31                51.87613                   8.76             NaN   \n",
      "...                            ...                    ...             ...   \n",
      "2023-07-31                     NaN                   3.90      118.584800   \n",
      "2023-08-31                     NaN                   4.17      120.378709   \n",
      "2023-09-30                     NaN                   4.38      122.125230   \n",
      "2023-10-31                     NaN                   4.80      123.904114   \n",
      "2023-11-30                     NaN                    NaN      121.974306   \n",
      "\n",
      "            value_OECDLOLITOAASTSAM  value_BOPGSTB  value_WM1NS  value_M1V  \\\n",
      "1990-01-31               100.686551            NaN      805.860      7.356   \n",
      "1990-02-28               100.691920            NaN      786.300      7.356   \n",
      "1990-03-31               100.675582            NaN      793.500      7.356   \n",
      "1990-04-30               100.619091            NaN      813.200      7.391   \n",
      "1990-05-31               100.510613            NaN      795.150      7.391   \n",
      "...                             ...            ...          ...        ...   \n",
      "2023-07-31                      NaN       -64718.0    18345.020      1.511   \n",
      "2023-08-31                      NaN       -58657.0    18232.575        NaN   \n",
      "2023-09-30                      NaN       -61542.0    18153.050        NaN   \n",
      "2023-10-31                      NaN            NaN    18047.300        NaN   \n",
      "2023-11-30                      NaN            NaN    18023.000        NaN   \n",
      "\n",
      "            value_WM2NS  \n",
      "1990-01-31     3173.160  \n",
      "1990-02-28     3169.175  \n",
      "1990-03-31     3189.875  \n",
      "1990-04-30     3216.700  \n",
      "1990-05-31     3186.150  \n",
      "...                 ...  \n",
      "2023-07-31    20749.380  \n",
      "2023-08-31    20718.350  \n",
      "2023-09-30    20703.425  \n",
      "2023-10-31    20674.720  \n",
      "2023-11-30    20718.500  \n",
      "\n",
      "[407 rows x 35 columns]\n"
     ]
    }
   ],
   "source": [
    "dataframes_list = list(dataframes.values())\n",
    "\n",
    "# Align all DataFrames to the same frequency and start date\n",
    "aligned_dataframes = align_dataframes(dataframes_list)\n",
    "\n",
    "# Concatenate all DataFrames along the column axis\n",
    "combined_df = pd.concat(aligned_dataframes, axis=1)\n",
    "\n",
    "# Display the combined DataFrame\n",
    "print(combined_df)\n"
   ]
  },
  {
   "cell_type": "code",
   "execution_count": null,
   "metadata": {},
   "outputs": [],
   "source": [
    "# # get tags\n",
    "# request_url = f'https://api.stlouisfed.org/fred/tags'\n",
    "\n",
    "# params = {\n",
    "#     'api_key': api_key,\n",
    "#     'file_type': 'json',\n",
    "#     'limit': 1000,\n",
    "#     'order_by': 'popularity',\n",
    "#     # 'offset': 0,\n",
    "# }\n",
    "# tags_response = requests.get(request_url, params=params)\n",
    "# # response_json = tags_response.json()\n",
    "# # tags_df = pd.DataFrame(response_json['tags'])\n",
    "# # display(tags_df)\n",
    "# # print(tags_df['name'].to_list())"
   ]
  },
  {
   "cell_type": "code",
   "execution_count": 106,
   "metadata": {},
   "outputs": [],
   "source": [
    "# response_json = tags_response.json()\n",
    "# tags_df = pd.DataFrame(response_json['tags'])\n",
    "# display(tags_df)"
   ]
  },
  {
   "cell_type": "code",
   "execution_count": 107,
   "metadata": {},
   "outputs": [],
   "source": [
    "# request_url = f'https://api.stlouisfed.org/fred/releases'\n",
    "\n",
    "# params = {\n",
    "#     'api_key': api_key,\n",
    "#     'file_type': 'json',\n",
    "#     'limit': 1000,\n",
    "#     # 'offset': 10,\n",
    "# }\n",
    "# response = requests.get(request_url, params=params)\n",
    "# # # print the 'name' for each Release\n",
    "# # for release in response.json()['releases']:\n",
    "# #     print(release['name'])"
   ]
  },
  {
   "cell_type": "code",
   "execution_count": 109,
   "metadata": {},
   "outputs": [],
   "source": [
    "# # Define the path to the Vol 3 Data\n",
    "# folder_path = 'VOL3-DATA'\n",
    "\n",
    "# # Dictionary to hold DataFrames, keyed by file name\n",
    "# dataframes = {}\n",
    "\n",
    "# # Iterate over each file in the folder\n",
    "# for filename in os.listdir(folder_path):\n",
    "#     # Check if the file is a CSV\n",
    "#     if filename.endswith('.csv'):\n",
    "#         file_path = os.path.join(folder_path, filename)\n",
    "#         try:\n",
    "#             # Read the CSV file into a DataFrame, skip bad lines\n",
    "#             dataframes[filename] = pd.read_csv(file_path, on_bad_lines='skip')\n",
    "#         except Exception as e:\n",
    "#             print(f\"Error reading {filename}: {e}\")\n"
   ]
  },
  {
   "cell_type": "code",
   "execution_count": null,
   "metadata": {},
   "outputs": [
    {
     "data": {
      "text/plain": [
       "dict_keys(['BOPGSTB.csv', 'JTSJOL.csv', 'GDPC1.csv', 'CP.csv', 'NROU.csv', 'FOMC_FIXED.csv', 'House Democrats (Count), House Republicans (Count), House Other Parties (Count) from the Party Divisions of the United States House of Representatives  Database.csv', 'USAGDPDEFQISMEI.csv', 'TOTBUSSMSA.csv', 'OECDLOLITOAASTSAM.csv', 'WM1NS.csv', 'JTSLDL.csv', 'DP_LIVE_28102023012755672.csv', 'PCE.csv', 'LNS14000002.csv', 'UNRATE.csv', 'HOUST.csv', 'DP_LIVE_28102023012830360.csv', 'PPIACO.csv', 'QFRTCASHINFUSNO.csv', 'DTWEXBGS.csv', 'CPIAUCSL.csv', 'HOUST1F.csv', 'ADPWNUSNERSA.csv', 'BOGZ1LM105020005Q.csv', 'MMMFFAQ027S.csv', 'RSAFS.csv', 'A053RC1Q027SBEA.csv', 'M1V.csv', 'CRESTKCPIXSLTRM159SFRBATL.csv', 'DP_LIVE_28102023012705953.csv', 'A939RX0Q048SBEA.csv', 'CORESTICKM159SFRBATL.csv', 'IRLTLT01USM156N.csv', 'UMCSENT.csv', 'A191RI1Q225SBEA.csv', 'GDP.csv', 'DDDM01USA156NWDB.csv'])"
      ]
     },
     "execution_count": 101,
     "metadata": {},
     "output_type": "execute_result"
    }
   ],
   "source": [
    "dataframes.keys()"
   ]
  },
  {
   "cell_type": "code",
   "execution_count": 147,
   "metadata": {},
   "outputs": [
    {
     "name": "stdout",
     "output_type": "stream",
     "text": [
      "<class 'pandas.core.frame.DataFrame'>\n",
      "RangeIndex: 407 entries, 0 to 406\n",
      "Data columns (total 4 columns):\n",
      " #   Column          Non-Null Count  Dtype         \n",
      "---  ------          --------------  -----         \n",
      " 0   realtime_start  407 non-null    object        \n",
      " 1   realtime_end    407 non-null    object        \n",
      " 2   date            407 non-null    datetime64[ns]\n",
      " 3   value           407 non-null    float64       \n",
      "dtypes: datetime64[ns](1), float64(1), object(2)\n",
      "memory usage: 12.8+ KB\n",
      "None\n"
     ]
    }
   ],
   "source": [
    "# dataframes['FOMC_FIXED.csv']\n",
    "print(dataframes['FEDFUNDS'].info())\n"
   ]
  },
  {
   "cell_type": "code",
   "execution_count": null,
   "metadata": {},
   "outputs": [],
   "source": [
    "from PIL import Image\n",
    "from pix2tex.cli import LatexOCR\n",
    "img = Image.open('/Users/matthewmella/how-interest-ing/Screenshot 2023-12-02 at 12.59.15 PM.png')\n",
    "model = LatexOCR()"
   ]
  },
  {
   "cell_type": "code",
   "execution_count": 104,
   "metadata": {},
   "outputs": [
    {
     "ename": "KeyboardInterrupt",
     "evalue": "",
     "output_type": "error",
     "traceback": [
      "\u001b[0;31m---------------------------------------------------------------------------\u001b[0m",
      "\u001b[0;31mKeyboardInterrupt\u001b[0m                         Traceback (most recent call last)",
      "\u001b[1;32m/Users/matthewmella/how-interest-ing/matt-version.ipynb Cell 16\u001b[0m line \u001b[0;36m1\n\u001b[0;32m----> <a href='vscode-notebook-cell:/Users/matthewmella/how-interest-ing/matt-version.ipynb#W2sZmlsZQ%3D%3D?line=0'>1</a>\u001b[0m \u001b[39mprint\u001b[39m(model(img))\n",
      "File \u001b[0;32m/opt/homebrew/Cellar/python@3.10/3.10.13/Frameworks/Python.framework/Versions/3.10/lib/python3.10/contextlib.py:79\u001b[0m, in \u001b[0;36mContextDecorator.__call__.<locals>.inner\u001b[0;34m(*args, **kwds)\u001b[0m\n\u001b[1;32m     76\u001b[0m \u001b[39m@wraps\u001b[39m(func)\n\u001b[1;32m     77\u001b[0m \u001b[39mdef\u001b[39;00m \u001b[39minner\u001b[39m(\u001b[39m*\u001b[39margs, \u001b[39m*\u001b[39m\u001b[39m*\u001b[39mkwds):\n\u001b[1;32m     78\u001b[0m     \u001b[39mwith\u001b[39;00m \u001b[39mself\u001b[39m\u001b[39m.\u001b[39m_recreate_cm():\n\u001b[0;32m---> 79\u001b[0m         \u001b[39mreturn\u001b[39;00m func(\u001b[39m*\u001b[39;49margs, \u001b[39m*\u001b[39;49m\u001b[39m*\u001b[39;49mkwds)\n",
      "File \u001b[0;32m/opt/homebrew/lib/python3.10/site-packages/pix2tex/cli.py:134\u001b[0m, in \u001b[0;36mLatexOCR.__call__\u001b[0;34m(self, img, resize)\u001b[0m\n\u001b[1;32m    131\u001b[0m     t \u001b[39m=\u001b[39m test_transform(image\u001b[39m=\u001b[39mimg)[\u001b[39m'\u001b[39m\u001b[39mimage\u001b[39m\u001b[39m'\u001b[39m][:\u001b[39m1\u001b[39m]\u001b[39m.\u001b[39munsqueeze(\u001b[39m0\u001b[39m)\n\u001b[1;32m    132\u001b[0m im \u001b[39m=\u001b[39m t\u001b[39m.\u001b[39mto(\u001b[39mself\u001b[39m\u001b[39m.\u001b[39margs\u001b[39m.\u001b[39mdevice)\n\u001b[0;32m--> 134\u001b[0m dec \u001b[39m=\u001b[39m \u001b[39mself\u001b[39;49m\u001b[39m.\u001b[39;49mmodel\u001b[39m.\u001b[39;49mgenerate(im\u001b[39m.\u001b[39;49mto(\u001b[39mself\u001b[39;49m\u001b[39m.\u001b[39;49margs\u001b[39m.\u001b[39;49mdevice), temperature\u001b[39m=\u001b[39;49m\u001b[39mself\u001b[39;49m\u001b[39m.\u001b[39;49margs\u001b[39m.\u001b[39;49mget(\u001b[39m'\u001b[39;49m\u001b[39mtemperature\u001b[39;49m\u001b[39m'\u001b[39;49m, \u001b[39m.25\u001b[39;49m))\n\u001b[1;32m    135\u001b[0m pred \u001b[39m=\u001b[39m post_process(token2str(dec, \u001b[39mself\u001b[39m\u001b[39m.\u001b[39mtokenizer)[\u001b[39m0\u001b[39m])\n\u001b[1;32m    136\u001b[0m \u001b[39mtry\u001b[39;00m:\n",
      "File \u001b[0;32m/opt/homebrew/lib/python3.10/site-packages/torch/autograd/grad_mode.py:27\u001b[0m, in \u001b[0;36m_DecoratorContextManager.__call__.<locals>.decorate_context\u001b[0;34m(*args, **kwargs)\u001b[0m\n\u001b[1;32m     24\u001b[0m \u001b[39m@functools\u001b[39m\u001b[39m.\u001b[39mwraps(func)\n\u001b[1;32m     25\u001b[0m \u001b[39mdef\u001b[39;00m \u001b[39mdecorate_context\u001b[39m(\u001b[39m*\u001b[39margs, \u001b[39m*\u001b[39m\u001b[39m*\u001b[39mkwargs):\n\u001b[1;32m     26\u001b[0m     \u001b[39mwith\u001b[39;00m \u001b[39mself\u001b[39m\u001b[39m.\u001b[39mclone():\n\u001b[0;32m---> 27\u001b[0m         \u001b[39mreturn\u001b[39;00m func(\u001b[39m*\u001b[39;49margs, \u001b[39m*\u001b[39;49m\u001b[39m*\u001b[39;49mkwargs)\n",
      "File \u001b[0;32m/opt/homebrew/lib/python3.10/site-packages/pix2tex/models/utils.py:36\u001b[0m, in \u001b[0;36mModel.generate\u001b[0;34m(self, x, temperature)\u001b[0m\n\u001b[1;32m     34\u001b[0m \u001b[39m@torch\u001b[39m\u001b[39m.\u001b[39mno_grad()\n\u001b[1;32m     35\u001b[0m \u001b[39mdef\u001b[39;00m \u001b[39mgenerate\u001b[39m(\u001b[39mself\u001b[39m, x: torch\u001b[39m.\u001b[39mTensor, temperature: \u001b[39mfloat\u001b[39m \u001b[39m=\u001b[39m \u001b[39m0.25\u001b[39m):\n\u001b[0;32m---> 36\u001b[0m     \u001b[39mreturn\u001b[39;00m \u001b[39mself\u001b[39;49m\u001b[39m.\u001b[39;49mdecoder\u001b[39m.\u001b[39;49mgenerate((torch\u001b[39m.\u001b[39;49mLongTensor([\u001b[39mself\u001b[39;49m\u001b[39m.\u001b[39;49margs\u001b[39m.\u001b[39;49mbos_token]\u001b[39m*\u001b[39;49m\u001b[39mlen\u001b[39;49m(x))[:, \u001b[39mNone\u001b[39;49;00m])\u001b[39m.\u001b[39;49mto(x\u001b[39m.\u001b[39;49mdevice), \u001b[39mself\u001b[39;49m\u001b[39m.\u001b[39;49margs\u001b[39m.\u001b[39;49mmax_seq_len,\n\u001b[1;32m     37\u001b[0m                                  eos_token\u001b[39m=\u001b[39;49m\u001b[39mself\u001b[39;49m\u001b[39m.\u001b[39;49margs\u001b[39m.\u001b[39;49meos_token, context\u001b[39m=\u001b[39;49m\u001b[39mself\u001b[39;49m\u001b[39m.\u001b[39;49mencoder(x), temperature\u001b[39m=\u001b[39;49mtemperature)\n",
      "File \u001b[0;32m/opt/homebrew/lib/python3.10/site-packages/torch/autograd/grad_mode.py:27\u001b[0m, in \u001b[0;36m_DecoratorContextManager.__call__.<locals>.decorate_context\u001b[0;34m(*args, **kwargs)\u001b[0m\n\u001b[1;32m     24\u001b[0m \u001b[39m@functools\u001b[39m\u001b[39m.\u001b[39mwraps(func)\n\u001b[1;32m     25\u001b[0m \u001b[39mdef\u001b[39;00m \u001b[39mdecorate_context\u001b[39m(\u001b[39m*\u001b[39margs, \u001b[39m*\u001b[39m\u001b[39m*\u001b[39mkwargs):\n\u001b[1;32m     26\u001b[0m     \u001b[39mwith\u001b[39;00m \u001b[39mself\u001b[39m\u001b[39m.\u001b[39mclone():\n\u001b[0;32m---> 27\u001b[0m         \u001b[39mreturn\u001b[39;00m func(\u001b[39m*\u001b[39;49margs, \u001b[39m*\u001b[39;49m\u001b[39m*\u001b[39;49mkwargs)\n",
      "File \u001b[0;32m/opt/homebrew/lib/python3.10/site-packages/pix2tex/models/transformer.py:32\u001b[0m, in \u001b[0;36mCustomARWrapper.generate\u001b[0;34m(self, start_tokens, seq_len, eos_token, temperature, filter_logits_fn, filter_thres, **kwargs)\u001b[0m\n\u001b[1;32m     30\u001b[0m mask \u001b[39m=\u001b[39m mask[:, \u001b[39m-\u001b[39m\u001b[39mself\u001b[39m\u001b[39m.\u001b[39mmax_seq_len:]\n\u001b[1;32m     31\u001b[0m \u001b[39m# print('arw:',out.shape)\u001b[39;00m\n\u001b[0;32m---> 32\u001b[0m logits \u001b[39m=\u001b[39m \u001b[39mself\u001b[39;49m\u001b[39m.\u001b[39;49mnet(x, mask\u001b[39m=\u001b[39;49mmask, \u001b[39m*\u001b[39;49m\u001b[39m*\u001b[39;49mkwargs)[:, \u001b[39m-\u001b[39m\u001b[39m1\u001b[39m, :]\n\u001b[1;32m     34\u001b[0m \u001b[39mif\u001b[39;00m filter_logits_fn \u001b[39min\u001b[39;00m {top_k, top_p}:\n\u001b[1;32m     35\u001b[0m     filtered_logits \u001b[39m=\u001b[39m filter_logits_fn(logits, thres\u001b[39m=\u001b[39mfilter_thres)\n",
      "File \u001b[0;32m/opt/homebrew/lib/python3.10/site-packages/torch/nn/modules/module.py:1190\u001b[0m, in \u001b[0;36mModule._call_impl\u001b[0;34m(self, *input, **kwargs)\u001b[0m\n\u001b[1;32m   1186\u001b[0m \u001b[39m# If we don't have any hooks, we want to skip the rest of the logic in\u001b[39;00m\n\u001b[1;32m   1187\u001b[0m \u001b[39m# this function, and just call forward.\u001b[39;00m\n\u001b[1;32m   1188\u001b[0m \u001b[39mif\u001b[39;00m \u001b[39mnot\u001b[39;00m (\u001b[39mself\u001b[39m\u001b[39m.\u001b[39m_backward_hooks \u001b[39mor\u001b[39;00m \u001b[39mself\u001b[39m\u001b[39m.\u001b[39m_forward_hooks \u001b[39mor\u001b[39;00m \u001b[39mself\u001b[39m\u001b[39m.\u001b[39m_forward_pre_hooks \u001b[39mor\u001b[39;00m _global_backward_hooks\n\u001b[1;32m   1189\u001b[0m         \u001b[39mor\u001b[39;00m _global_forward_hooks \u001b[39mor\u001b[39;00m _global_forward_pre_hooks):\n\u001b[0;32m-> 1190\u001b[0m     \u001b[39mreturn\u001b[39;00m forward_call(\u001b[39m*\u001b[39;49m\u001b[39minput\u001b[39;49m, \u001b[39m*\u001b[39;49m\u001b[39m*\u001b[39;49mkwargs)\n\u001b[1;32m   1191\u001b[0m \u001b[39m# Do not call functions when jit is used\u001b[39;00m\n\u001b[1;32m   1192\u001b[0m full_backward_hooks, non_full_backward_hooks \u001b[39m=\u001b[39m [], []\n",
      "File \u001b[0;32m/opt/homebrew/lib/python3.10/site-packages/x_transformers/x_transformers.py:790\u001b[0m, in \u001b[0;36mTransformerWrapper.forward\u001b[0;34m(self, x, return_embeddings, mask, return_mems, return_attn, mems, **kwargs)\u001b[0m\n\u001b[1;32m    787\u001b[0m     \u001b[39mif\u001b[39;00m exists(mask):\n\u001b[1;32m    788\u001b[0m         mask \u001b[39m=\u001b[39m F\u001b[39m.\u001b[39mpad(mask, (num_mem, \u001b[39m0\u001b[39m), value \u001b[39m=\u001b[39m \u001b[39mTrue\u001b[39;00m)\n\u001b[0;32m--> 790\u001b[0m x, intermediates \u001b[39m=\u001b[39m \u001b[39mself\u001b[39;49m\u001b[39m.\u001b[39;49mattn_layers(x, mask \u001b[39m=\u001b[39;49m mask, mems \u001b[39m=\u001b[39;49m mems, return_hiddens \u001b[39m=\u001b[39;49m \u001b[39mTrue\u001b[39;49;00m, \u001b[39m*\u001b[39;49m\u001b[39m*\u001b[39;49mkwargs)\n\u001b[1;32m    791\u001b[0m x \u001b[39m=\u001b[39m \u001b[39mself\u001b[39m\u001b[39m.\u001b[39mnorm(x)\n\u001b[1;32m    793\u001b[0m mem, x \u001b[39m=\u001b[39m x[:, :num_mem], x[:, num_mem:]\n",
      "File \u001b[0;32m/opt/homebrew/lib/python3.10/site-packages/torch/nn/modules/module.py:1190\u001b[0m, in \u001b[0;36mModule._call_impl\u001b[0;34m(self, *input, **kwargs)\u001b[0m\n\u001b[1;32m   1186\u001b[0m \u001b[39m# If we don't have any hooks, we want to skip the rest of the logic in\u001b[39;00m\n\u001b[1;32m   1187\u001b[0m \u001b[39m# this function, and just call forward.\u001b[39;00m\n\u001b[1;32m   1188\u001b[0m \u001b[39mif\u001b[39;00m \u001b[39mnot\u001b[39;00m (\u001b[39mself\u001b[39m\u001b[39m.\u001b[39m_backward_hooks \u001b[39mor\u001b[39;00m \u001b[39mself\u001b[39m\u001b[39m.\u001b[39m_forward_hooks \u001b[39mor\u001b[39;00m \u001b[39mself\u001b[39m\u001b[39m.\u001b[39m_forward_pre_hooks \u001b[39mor\u001b[39;00m _global_backward_hooks\n\u001b[1;32m   1189\u001b[0m         \u001b[39mor\u001b[39;00m _global_forward_hooks \u001b[39mor\u001b[39;00m _global_forward_pre_hooks):\n\u001b[0;32m-> 1190\u001b[0m     \u001b[39mreturn\u001b[39;00m forward_call(\u001b[39m*\u001b[39;49m\u001b[39minput\u001b[39;49m, \u001b[39m*\u001b[39;49m\u001b[39m*\u001b[39;49mkwargs)\n\u001b[1;32m   1191\u001b[0m \u001b[39m# Do not call functions when jit is used\u001b[39;00m\n\u001b[1;32m   1192\u001b[0m full_backward_hooks, non_full_backward_hooks \u001b[39m=\u001b[39m [], []\n",
      "File \u001b[0;32m/opt/homebrew/lib/python3.10/site-packages/x_transformers/x_transformers.py:624\u001b[0m, in \u001b[0;36mAttentionLayers.forward\u001b[0;34m(self, x, context, mask, context_mask, mems, return_hiddens)\u001b[0m\n\u001b[1;32m    622\u001b[0m     out, inter \u001b[39m=\u001b[39m block(x, context \u001b[39m=\u001b[39m context, mask \u001b[39m=\u001b[39m mask, context_mask \u001b[39m=\u001b[39m context_mask, prev_attn \u001b[39m=\u001b[39m prev_cross_attn)\n\u001b[1;32m    623\u001b[0m \u001b[39melif\u001b[39;00m layer_type \u001b[39m==\u001b[39m \u001b[39m'\u001b[39m\u001b[39mf\u001b[39m\u001b[39m'\u001b[39m:\n\u001b[0;32m--> 624\u001b[0m     out \u001b[39m=\u001b[39m block(x)\n\u001b[1;32m    626\u001b[0m x \u001b[39m=\u001b[39m residual_fn(out, residual)\n\u001b[1;32m    628\u001b[0m \u001b[39mif\u001b[39;00m layer_type \u001b[39min\u001b[39;00m (\u001b[39m'\u001b[39m\u001b[39ma\u001b[39m\u001b[39m'\u001b[39m, \u001b[39m'\u001b[39m\u001b[39mc\u001b[39m\u001b[39m'\u001b[39m):\n",
      "File \u001b[0;32m/opt/homebrew/lib/python3.10/site-packages/torch/nn/modules/module.py:1190\u001b[0m, in \u001b[0;36mModule._call_impl\u001b[0;34m(self, *input, **kwargs)\u001b[0m\n\u001b[1;32m   1186\u001b[0m \u001b[39m# If we don't have any hooks, we want to skip the rest of the logic in\u001b[39;00m\n\u001b[1;32m   1187\u001b[0m \u001b[39m# this function, and just call forward.\u001b[39;00m\n\u001b[1;32m   1188\u001b[0m \u001b[39mif\u001b[39;00m \u001b[39mnot\u001b[39;00m (\u001b[39mself\u001b[39m\u001b[39m.\u001b[39m_backward_hooks \u001b[39mor\u001b[39;00m \u001b[39mself\u001b[39m\u001b[39m.\u001b[39m_forward_hooks \u001b[39mor\u001b[39;00m \u001b[39mself\u001b[39m\u001b[39m.\u001b[39m_forward_pre_hooks \u001b[39mor\u001b[39;00m _global_backward_hooks\n\u001b[1;32m   1189\u001b[0m         \u001b[39mor\u001b[39;00m _global_forward_hooks \u001b[39mor\u001b[39;00m _global_forward_pre_hooks):\n\u001b[0;32m-> 1190\u001b[0m     \u001b[39mreturn\u001b[39;00m forward_call(\u001b[39m*\u001b[39;49m\u001b[39minput\u001b[39;49m, \u001b[39m*\u001b[39;49m\u001b[39m*\u001b[39;49mkwargs)\n\u001b[1;32m   1191\u001b[0m \u001b[39m# Do not call functions when jit is used\u001b[39;00m\n\u001b[1;32m   1192\u001b[0m full_backward_hooks, non_full_backward_hooks \u001b[39m=\u001b[39m [], []\n",
      "File \u001b[0;32m/opt/homebrew/lib/python3.10/site-packages/x_transformers/x_transformers.py:276\u001b[0m, in \u001b[0;36mFeedForward.forward\u001b[0;34m(self, x)\u001b[0m\n\u001b[1;32m    275\u001b[0m \u001b[39mdef\u001b[39;00m \u001b[39mforward\u001b[39m(\u001b[39mself\u001b[39m, x):\n\u001b[0;32m--> 276\u001b[0m     \u001b[39mreturn\u001b[39;00m \u001b[39mself\u001b[39;49m\u001b[39m.\u001b[39;49mnet(x)\n",
      "File \u001b[0;32m/opt/homebrew/lib/python3.10/site-packages/torch/nn/modules/module.py:1190\u001b[0m, in \u001b[0;36mModule._call_impl\u001b[0;34m(self, *input, **kwargs)\u001b[0m\n\u001b[1;32m   1186\u001b[0m \u001b[39m# If we don't have any hooks, we want to skip the rest of the logic in\u001b[39;00m\n\u001b[1;32m   1187\u001b[0m \u001b[39m# this function, and just call forward.\u001b[39;00m\n\u001b[1;32m   1188\u001b[0m \u001b[39mif\u001b[39;00m \u001b[39mnot\u001b[39;00m (\u001b[39mself\u001b[39m\u001b[39m.\u001b[39m_backward_hooks \u001b[39mor\u001b[39;00m \u001b[39mself\u001b[39m\u001b[39m.\u001b[39m_forward_hooks \u001b[39mor\u001b[39;00m \u001b[39mself\u001b[39m\u001b[39m.\u001b[39m_forward_pre_hooks \u001b[39mor\u001b[39;00m _global_backward_hooks\n\u001b[1;32m   1189\u001b[0m         \u001b[39mor\u001b[39;00m _global_forward_hooks \u001b[39mor\u001b[39;00m _global_forward_pre_hooks):\n\u001b[0;32m-> 1190\u001b[0m     \u001b[39mreturn\u001b[39;00m forward_call(\u001b[39m*\u001b[39;49m\u001b[39minput\u001b[39;49m, \u001b[39m*\u001b[39;49m\u001b[39m*\u001b[39;49mkwargs)\n\u001b[1;32m   1191\u001b[0m \u001b[39m# Do not call functions when jit is used\u001b[39;00m\n\u001b[1;32m   1192\u001b[0m full_backward_hooks, non_full_backward_hooks \u001b[39m=\u001b[39m [], []\n",
      "File \u001b[0;32m/opt/homebrew/lib/python3.10/site-packages/torch/nn/modules/container.py:204\u001b[0m, in \u001b[0;36mSequential.forward\u001b[0;34m(self, input)\u001b[0m\n\u001b[1;32m    202\u001b[0m \u001b[39mdef\u001b[39;00m \u001b[39mforward\u001b[39m(\u001b[39mself\u001b[39m, \u001b[39minput\u001b[39m):\n\u001b[1;32m    203\u001b[0m     \u001b[39mfor\u001b[39;00m module \u001b[39min\u001b[39;00m \u001b[39mself\u001b[39m:\n\u001b[0;32m--> 204\u001b[0m         \u001b[39minput\u001b[39m \u001b[39m=\u001b[39m module(\u001b[39minput\u001b[39;49m)\n\u001b[1;32m    205\u001b[0m     \u001b[39mreturn\u001b[39;00m \u001b[39minput\u001b[39m\n",
      "File \u001b[0;32m/opt/homebrew/lib/python3.10/site-packages/torch/nn/modules/module.py:1190\u001b[0m, in \u001b[0;36mModule._call_impl\u001b[0;34m(self, *input, **kwargs)\u001b[0m\n\u001b[1;32m   1186\u001b[0m \u001b[39m# If we don't have any hooks, we want to skip the rest of the logic in\u001b[39;00m\n\u001b[1;32m   1187\u001b[0m \u001b[39m# this function, and just call forward.\u001b[39;00m\n\u001b[1;32m   1188\u001b[0m \u001b[39mif\u001b[39;00m \u001b[39mnot\u001b[39;00m (\u001b[39mself\u001b[39m\u001b[39m.\u001b[39m_backward_hooks \u001b[39mor\u001b[39;00m \u001b[39mself\u001b[39m\u001b[39m.\u001b[39m_forward_hooks \u001b[39mor\u001b[39;00m \u001b[39mself\u001b[39m\u001b[39m.\u001b[39m_forward_pre_hooks \u001b[39mor\u001b[39;00m _global_backward_hooks\n\u001b[1;32m   1189\u001b[0m         \u001b[39mor\u001b[39;00m _global_forward_hooks \u001b[39mor\u001b[39;00m _global_forward_pre_hooks):\n\u001b[0;32m-> 1190\u001b[0m     \u001b[39mreturn\u001b[39;00m forward_call(\u001b[39m*\u001b[39;49m\u001b[39minput\u001b[39;49m, \u001b[39m*\u001b[39;49m\u001b[39m*\u001b[39;49mkwargs)\n\u001b[1;32m   1191\u001b[0m \u001b[39m# Do not call functions when jit is used\u001b[39;00m\n\u001b[1;32m   1192\u001b[0m full_backward_hooks, non_full_backward_hooks \u001b[39m=\u001b[39m [], []\n",
      "File \u001b[0;32m/opt/homebrew/lib/python3.10/site-packages/x_transformers/x_transformers.py:256\u001b[0m, in \u001b[0;36mGEGLU.forward\u001b[0;34m(self, x)\u001b[0m\n\u001b[1;32m    255\u001b[0m \u001b[39mdef\u001b[39;00m \u001b[39mforward\u001b[39m(\u001b[39mself\u001b[39m, x):\n\u001b[0;32m--> 256\u001b[0m     x, gate \u001b[39m=\u001b[39m \u001b[39mself\u001b[39;49m\u001b[39m.\u001b[39;49mproj(x)\u001b[39m.\u001b[39;49mchunk(\u001b[39m2\u001b[39;49m, dim \u001b[39m=\u001b[39;49m \u001b[39m-\u001b[39;49m\u001b[39m1\u001b[39;49m)\n\u001b[1;32m    257\u001b[0m     \u001b[39mreturn\u001b[39;00m x \u001b[39m*\u001b[39m F\u001b[39m.\u001b[39mgelu(gate)\n",
      "\u001b[0;31mKeyboardInterrupt\u001b[0m: "
     ]
    }
   ],
   "source": [
    "print(model(img))"
   ]
  },
  {
   "cell_type": "markdown",
   "metadata": {},
   "source": [
    "\n",
    "\\begin{array}{c}{{\\mathrm{Setting}\\;G_{\\ell}=\\sum_{i\\in I_{\\ell}}\\beta_{i}\\;\\mathrm{and}\\;\\;H_{\\ell}=\\sum_{i\\in I_{\\ell}}\\int_{\\ell}\\;\\mathrm{and}\\;\\mathrm{combing}\\;\\mathrm{anbove}\\;\\;\\mathrm{gives}}}\\\\ {{\\tilde{\\cal J}(t)=\\sum_{\\ell\\in L}\\left(G_{\\ell}w_{\\ell}+\\frac{1}{2}(H_{\\ell}+\\lambda)w_{\\ell}^{2}\\right)+\\gamma|L|.}}\\end{array}"
   ]
  },
  {
   "cell_type": "markdown",
   "metadata": {},
   "source": []
  }
 ],
 "metadata": {
  "kernelspec": {
   "display_name": "Python 3",
   "language": "python",
   "name": "python3"
  },
  "language_info": {
   "codemirror_mode": {
    "name": "ipython",
    "version": 3
   },
   "file_extension": ".py",
   "mimetype": "text/x-python",
   "name": "python",
   "nbconvert_exporter": "python",
   "pygments_lexer": "ipython3",
   "version": "3.10.13"
  }
 },
 "nbformat": 4,
 "nbformat_minor": 2
}
