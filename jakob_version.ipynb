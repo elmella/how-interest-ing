{
 "cells": [
  {
   "cell_type": "code",
   "execution_count": 10,
   "metadata": {},
   "outputs": [],
   "source": [
    "import pandas as pd\n",
    "import matplotlib.pyplot as plt"
   ]
  },
  {
   "cell_type": "code",
   "execution_count": 11,
   "metadata": {},
   "outputs": [
    {
     "data": {
      "text/html": [
       "<div>\n",
       "<style scoped>\n",
       "    .dataframe tbody tr th:only-of-type {\n",
       "        vertical-align: middle;\n",
       "    }\n",
       "\n",
       "    .dataframe tbody tr th {\n",
       "        vertical-align: top;\n",
       "    }\n",
       "\n",
       "    .dataframe thead th {\n",
       "        text-align: right;\n",
       "    }\n",
       "</style>\n",
       "<table border=\"1\" class=\"dataframe\">\n",
       "  <thead>\n",
       "    <tr style=\"text-align: right;\">\n",
       "      <th></th>\n",
       "      <th>ffr</th>\n",
       "      <th>change</th>\n",
       "      <th>scheduled</th>\n",
       "    </tr>\n",
       "  </thead>\n",
       "  <tbody>\n",
       "    <tr>\n",
       "      <th>1989-06-05</th>\n",
       "      <td>9.50</td>\n",
       "      <td>-25.0</td>\n",
       "      <td>0.0</td>\n",
       "    </tr>\n",
       "    <tr>\n",
       "      <th>1989-07-07</th>\n",
       "      <td>9.25</td>\n",
       "      <td>-25.0</td>\n",
       "      <td>1.0</td>\n",
       "    </tr>\n",
       "    <tr>\n",
       "      <th>1989-07-26</th>\n",
       "      <td>9.00</td>\n",
       "      <td>-25.0</td>\n",
       "      <td>0.0</td>\n",
       "    </tr>\n",
       "    <tr>\n",
       "      <th>1989-08-23</th>\n",
       "      <td>9.00</td>\n",
       "      <td>0.0</td>\n",
       "      <td>1.0</td>\n",
       "    </tr>\n",
       "    <tr>\n",
       "      <th>1989-10-04</th>\n",
       "      <td>9.00</td>\n",
       "      <td>0.0</td>\n",
       "      <td>1.0</td>\n",
       "    </tr>\n",
       "    <tr>\n",
       "      <th>...</th>\n",
       "      <td>...</td>\n",
       "      <td>...</td>\n",
       "      <td>...</td>\n",
       "    </tr>\n",
       "    <tr>\n",
       "      <th>2023-05-03</th>\n",
       "      <td>5.15</td>\n",
       "      <td>25.0</td>\n",
       "      <td>1.0</td>\n",
       "    </tr>\n",
       "    <tr>\n",
       "      <th>2023-06-14</th>\n",
       "      <td>5.15</td>\n",
       "      <td>0.0</td>\n",
       "      <td>1.0</td>\n",
       "    </tr>\n",
       "    <tr>\n",
       "      <th>2023-07-26</th>\n",
       "      <td>5.40</td>\n",
       "      <td>25.0</td>\n",
       "      <td>1.0</td>\n",
       "    </tr>\n",
       "    <tr>\n",
       "      <th>2023-09-20</th>\n",
       "      <td>5.40</td>\n",
       "      <td>0.0</td>\n",
       "      <td>1.0</td>\n",
       "    </tr>\n",
       "    <tr>\n",
       "      <th>2023-11-01</th>\n",
       "      <td>5.40</td>\n",
       "      <td>0.0</td>\n",
       "      <td>1.0</td>\n",
       "    </tr>\n",
       "  </tbody>\n",
       "</table>\n",
       "<p>301 rows × 3 columns</p>\n",
       "</div>"
      ],
      "text/plain": [
       "             ffr  change  scheduled\n",
       "1989-06-05  9.50   -25.0        0.0\n",
       "1989-07-07  9.25   -25.0        1.0\n",
       "1989-07-26  9.00   -25.0        0.0\n",
       "1989-08-23  9.00     0.0        1.0\n",
       "1989-10-04  9.00     0.0        1.0\n",
       "...          ...     ...        ...\n",
       "2023-05-03  5.15    25.0        1.0\n",
       "2023-06-14  5.15     0.0        1.0\n",
       "2023-07-26  5.40    25.0        1.0\n",
       "2023-09-20  5.40     0.0        1.0\n",
       "2023-11-01  5.40     0.0        1.0\n",
       "\n",
       "[301 rows x 3 columns]"
      ]
     },
     "execution_count": 11,
     "metadata": {},
     "output_type": "execute_result"
    }
   ],
   "source": [
    "# read in data\n",
    "df = pd.read_csv('fedfunds.csv', index_col=0)\n",
    "df.index = pd.to_datetime(df.index)\n",
    "df = df.astype(float)\n",
    "df"
   ]
  },
  {
   "cell_type": "code",
   "execution_count": 12,
   "metadata": {},
   "outputs": [
    {
     "data": {
      "image/png": "[encoded data removed]",
      "text/plain": [
       "<Figure size 640x480 with 1 Axes>"
      ]
     },
     "metadata": {},
     "output_type": "display_data"
    }
   ],
   "source": [
    "# visualize ffr\n",
    "plt.title('Fed Funds Rate')\n",
    "plt.plot(df.index, df['ffr'])\n",
    "plt.show()"
   ]
  },
  {
   "cell_type": "code",
   "execution_count": 13,
   "metadata": {},
   "outputs": [],
   "source": [
    "# make df for scheduled and unscheduled\n",
    "dfs, dfu = df.query('scheduled == 1'), df.query('scheduled == 0')"
   ]
  },
  {
   "cell_type": "code",
   "execution_count": 14,
   "metadata": {},
   "outputs": [
    {
     "name": "stdout",
     "output_type": "stream",
     "text": [
      "Number of unscheduled meetings: \t25\n",
      "Number of meetings with no change: \t0\n",
      "Number of meetings with a change: \t25\n",
      "\t(Up: 1 \tDown: 24)\n"
     ]
    }
   ],
   "source": [
    "# unscheduled comparison\n",
    "n_dfu = len(dfu)\n",
    "down_dfu = len(dfu.query('change < 0'))\n",
    "up_dfu = len(dfu.query('change > 0'))\n",
    "const_dfu = len(dfu.query('change == 0'))\n",
    "\n",
    "# print results\n",
    "print(f'Number of unscheduled meetings: \\t{n_dfu}')\n",
    "print(f'Number of meetings with no change: \\t{const_dfu}')\n",
    "print(f'Number of meetings with a change: \\t{down_dfu + up_dfu}')\n",
    "print(f'\\t(Up: {up_dfu} \\tDown: {down_dfu})')"
   ]
  },
  {
   "cell_type": "code",
   "execution_count": 15,
   "metadata": {},
   "outputs": [
    {
     "name": "stdout",
     "output_type": "stream",
     "text": [
      "Number of unscheduled meetings: \t276\n",
      "Number of meetings with no change: \t189\n",
      "Percent of meetings with no change: \t0.68\n",
      "Number of meetings with a change: \t87\n",
      "\t(Up: 53 Down: 34)\n"
     ]
    }
   ],
   "source": [
    "# scheduled comparison\n",
    "n_dfs = len(dfs)\n",
    "down_dfs = len(dfs.query('change < 0'))\n",
    "up_dfs = len(dfs.query('change > 0'))\n",
    "const_dfs = len(dfs.query('change == 0'))\n",
    "\n",
    "# print results\n",
    "print(f'Number of unscheduled meetings: \\t{n_dfs}')\n",
    "print(f'Number of meetings with no change: \\t{const_dfs}')\n",
    "print(f'Percent of meetings with no change: \\t{round(const_dfs / n_dfs, 2)}')\n",
    "print(f'Number of meetings with a change: \\t{down_dfs + up_dfs}')\n",
    "print(f'\\t(Up: {up_dfs} Down: {down_dfs})')"
   ]
  }
 ],
 "metadata": {
  "kernelspec": {
   "display_name": "base",
   "language": "python",
   "name": "python3"
  },
  "language_info": {
   "codemirror_mode": {
    "name": "ipython",
    "version": 3
   },
   "file_extension": ".py",
   "mimetype": "text/x-python",
   "name": "python",
   "nbconvert_exporter": "python",
   "pygments_lexer": "ipython3",
   "version": "3.9.13"
  }
 },
 "nbformat": 4,
 "nbformat_minor": 2
}
