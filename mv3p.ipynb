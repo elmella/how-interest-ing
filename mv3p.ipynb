{
 "cells": [
  {
   "cell_type": "markdown",
   "metadata": {},
   "source": [
    "# Data Portfolio: Predicting U.S. Interest Rate Change\n",
    "    Xander de la Bruere\n",
    "    Jakob Gertsch\n",
    "    Sam Layton\n",
    "    Matt Mella\n",
    "    Wilson Stoddard"
   ]
  },
  {
   "cell_type": "code",
   "execution_count": 2,
   "metadata": {},
   "outputs": [],
   "source": [
    "import numpy as np"
   ]
  },
  {
   "cell_type": "markdown",
   "metadata": {},
   "source": [
    "### Research Overview\n",
    "\n",
    "One of the most important and influential indicators of the United States economy is the federal funds rate, commonly referred to as the interest rate. The federal funds rate is a target interest rate set by the Federal Reserve in an attempt to control other key economic indicators. Technically speaking, the federal funds rate is the cost banks face to borrow money from other banks in order to meet overnight reserve requirements, or the guarunteed interest from the Federal Reserve for choosing not to lend money but to keep it in reserve. However, in practice, the federal funds rate prevails as the standard interest rate throughout the economy.\n",
    "\n",
    "Significantly, an increase or decrease in the federal funds rate impacts levels of personal consumption and spending as well as corporate investment (higher interest rates increase cost to companies of borrowing money). For example, when interest rates are low, consumers have little to no incentive to save money, but when interest rates are high, the interest rate represents These personal and corporate decisions based on the prevailing interest rate, set by the federal funds rate, have direct and dramatic effects on important economic indicators such as inflation, mortgage prices, unemployment, and even the stock market.\n",
    "\n",
    "Since the federal funds rate influences so many economic outcomes, foreknowledge of changes in the federal funds rate would allow strategic economic decision-making and investment to maximize gains and to minimize or eliminate potential losses.\n",
    "\n",
    "https://www.investopedia.com/terms/f/federalfundsrate.asp\n"
   ]
  },
  {
   "cell_type": "code",
   "execution_count": null,
   "metadata": {},
   "outputs": [],
   "source": []
  }
 ],
 "metadata": {
  "kernelspec": {
   "display_name": "Python 3",
   "language": "python",
   "name": "python3"
  },
  "language_info": {
   "codemirror_mode": {
    "name": "ipython",
    "version": 3
   },
   "file_extension": ".py",
   "mimetype": "text/x-python",
   "name": "python",
   "nbconvert_exporter": "python",
   "pygments_lexer": "ipython3",
   "version": "3.10.12"
  }
 },
 "nbformat": 4,
 "nbformat_minor": 2
}
