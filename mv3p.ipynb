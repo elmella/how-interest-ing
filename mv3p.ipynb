{
 "cells": [
  {
   "cell_type": "markdown",
   "metadata": {},
   "source": [
    "# Data Portfolio: Predicting U.S. Interest Rate Change\n",
    "    Xander de la Bruere\n",
    "    Jakob Gertsch\n",
    "    Sam Layton\n",
    "    Matt Mella\n",
    "    Wilson Stoddard"
   ]
  },
  {
   "cell_type": "code",
   "execution_count": 2,
   "metadata": {},
   "outputs": [],
   "source": [
    "import numpy as np\n",
    "import pandas as pd\n",
    "import matplotlib.pyplot as plt"
   ]
  },
  {
   "cell_type": "markdown",
   "metadata": {},
   "source": [
    "### Research Question Overview\n",
    "\n",
    "One of the most important and influential indicators of the United States economy is the federal funds rate, commonly referred to as the interest rate. The federal funds rate is a target interest rate set by the Federal Reserve in an attempt to control other key economic indicators. The Federal Reserve seeks to reach its target interest rate by setting a discount rate (the cost banks face to borrow money from other banks in order to meet overnight reserve requirements), engaging in open market operations (reducing or increasing the quantity of U.S. treasury bills available for purchase), and adjusting reserve requirement (the percentage of money banks must keep in reserve rather than lending it to clients) (#1). In practice, the federal funds rate really does prevail as the standard interest rate throughout the economy.\n",
    "\n",
    "Significantly, an increase or decrease in the federal funds rate impacts levels of personal consumption and spending as well as corporate investment (higher interest rates increase cost to companies of borrowing money). For example, when interest rates are relaively high, consumers have higher incentive to save money (and get interest) rather than spending, and companies have lower incentive to invest (since they must borrow money at a high interest rate to do so), leading to the economy cooling off as a whole. Conversely, lower interest rates increase personal consumption and corporate investment, leading to the economy heating up as a whole. Cumulatively, these personal and corporate decisions, all based on the federal funds rate, have direct and dramatic effects on important economic indicators such as inflation, real GDP, mortgage prices, and unemployment.\n",
    "\n",
    "Since the federal funds rate influences so many economic outcomes, foreknowledge of changes in the federal funds rate would allow strategic economic decision-making and investment that would both maximize gains and minimize or eliminate potential losses. For this reason, much effort has been exerted to predict changes in the target federal funds rate announced periodically by the Federal Open Market Committee (FOMC), the policy-making team of the Federal Reserve (#2). The FOMC has shared some indicators that it considers in its decisions, including various price indices and labor market indicators (#3), but it does not explicitly share its goals or the way it considers or weights these metrics.\n",
    "\n",
    "Many predictive bodies, such as the Blue Chip consensus, are relatively successful at predicing changes in the federal funds rate when most or all economic indicators are positive (or negative), but are inconsistent in accuracy when economic conditions are mixed (#4). Using the techniques of logistic regression and classification, we seek to build upon this theory by considering and appropriately selecting critical features from available economic indicators to develop a robust model for predicting changes in the target federal funds rate. In particular, we concern ourselves with finding features that best predict which of three outcomes will occur: 1) a positive change in the federal funds rate, 2) a negative change in the federal funds rate, and 3) no change in the federal funds rate.\n"
   ]
  },
  {
   "cell_type": "markdown",
   "metadata": {},
   "source": [
    "Citations:\n",
    "1. https://www.federalreserve.gov/monetarypolicy/fomc.htm\n",
    "2. https://www.investopedia.com/terms/f/federalfundsrate.asp\n",
    "3. https://federalreserve.gov/monetarypolicy/monetary-policy-what-are-its-goals-how-does-it-work.htm\n",
    "4. https://www.stlouisfed.org/publications/regional-economist/july-2000/inside-the-briefcase-the-art-of-predicting-the-federal-reserve"
   ]
  },
  {
   "cell_type": "markdown",
   "metadata": {},
   "source": [
    "### Our Data\n",
    "\n",
    "Discussion of sources, cleaning, and robustness.\n",
    "Talk about the features we are using and why they are good choices.\n",
    "State our hypothesis"
   ]
  },
  {
   "cell_type": "markdown",
   "metadata": {},
   "source": [
    "### Data Visualization and Basic Analysis\n",
    "\n"
   ]
  },
  {
   "cell_type": "code",
   "execution_count": 4,
   "metadata": {},
   "outputs": [
    {
     "data": {
      "text/html": [
       "<div>\n",
       "<style scoped>\n",
       "    .dataframe tbody tr th:only-of-type {\n",
       "        vertical-align: middle;\n",
       "    }\n",
       "\n",
       "    .dataframe tbody tr th {\n",
       "        vertical-align: top;\n",
       "    }\n",
       "\n",
       "    .dataframe thead th {\n",
       "        text-align: right;\n",
       "    }\n",
       "</style>\n",
       "<table border=\"1\" class=\"dataframe\">\n",
       "  <thead>\n",
       "    <tr style=\"text-align: right;\">\n",
       "      <th></th>\n",
       "      <th>ffr</th>\n",
       "      <th>change</th>\n",
       "      <th>decision</th>\n",
       "      <th>loan</th>\n",
       "      <th>exports</th>\n",
       "      <th>pce</th>\n",
       "      <th>ue</th>\n",
       "      <th>rgdp</th>\n",
       "      <th>cars</th>\n",
       "      <th>recess</th>\n",
       "      <th>gdpg</th>\n",
       "      <th>veloc</th>\n",
       "      <th>house</th>\n",
       "      <th>cli</th>\n",
       "      <th>spx</th>\n",
       "      <th>usd</th>\n",
       "      <th>fed_party</th>\n",
       "      <th>potus_party</th>\n",
       "    </tr>\n",
       "  </thead>\n",
       "  <tbody>\n",
       "    <tr>\n",
       "      <th>1989-01-01</th>\n",
       "      <td>NaN</td>\n",
       "      <td>NaN</td>\n",
       "      <td>NaN</td>\n",
       "      <td>NaN</td>\n",
       "      <td>NaN</td>\n",
       "      <td>NaN</td>\n",
       "      <td>NaN</td>\n",
       "      <td>NaN</td>\n",
       "      <td>NaN</td>\n",
       "      <td>NaN</td>\n",
       "      <td>NaN</td>\n",
       "      <td>NaN</td>\n",
       "      <td>NaN</td>\n",
       "      <td>NaN</td>\n",
       "      <td>NaN</td>\n",
       "      <td>NaN</td>\n",
       "      <td>NaN</td>\n",
       "      <td>NaN</td>\n",
       "    </tr>\n",
       "    <tr>\n",
       "      <th>1989-01-02</th>\n",
       "      <td>NaN</td>\n",
       "      <td>NaN</td>\n",
       "      <td>NaN</td>\n",
       "      <td>NaN</td>\n",
       "      <td>12.5</td>\n",
       "      <td>4.05</td>\n",
       "      <td>5.4</td>\n",
       "      <td>4.1</td>\n",
       "      <td>15.372</td>\n",
       "      <td>0.0</td>\n",
       "      <td>4.2</td>\n",
       "      <td>7.028</td>\n",
       "      <td>1621.0</td>\n",
       "      <td>100.53120</td>\n",
       "      <td>NaN</td>\n",
       "      <td>NaN</td>\n",
       "      <td>NaN</td>\n",
       "      <td>NaN</td>\n",
       "    </tr>\n",
       "    <tr>\n",
       "      <th>1989-01-03</th>\n",
       "      <td>NaN</td>\n",
       "      <td>NaN</td>\n",
       "      <td>NaN</td>\n",
       "      <td>NaN</td>\n",
       "      <td>12.5</td>\n",
       "      <td>4.05</td>\n",
       "      <td>5.4</td>\n",
       "      <td>4.1</td>\n",
       "      <td>15.372</td>\n",
       "      <td>0.0</td>\n",
       "      <td>4.2</td>\n",
       "      <td>7.028</td>\n",
       "      <td>1621.0</td>\n",
       "      <td>100.53120</td>\n",
       "      <td>NaN</td>\n",
       "      <td>92.500000</td>\n",
       "      <td>NaN</td>\n",
       "      <td>NaN</td>\n",
       "    </tr>\n",
       "    <tr>\n",
       "      <th>1989-01-04</th>\n",
       "      <td>NaN</td>\n",
       "      <td>NaN</td>\n",
       "      <td>NaN</td>\n",
       "      <td>NaN</td>\n",
       "      <td>12.5</td>\n",
       "      <td>4.05</td>\n",
       "      <td>5.4</td>\n",
       "      <td>4.1</td>\n",
       "      <td>15.372</td>\n",
       "      <td>0.0</td>\n",
       "      <td>4.2</td>\n",
       "      <td>7.028</td>\n",
       "      <td>1621.0</td>\n",
       "      <td>100.53120</td>\n",
       "      <td>275.309998</td>\n",
       "      <td>92.169998</td>\n",
       "      <td>NaN</td>\n",
       "      <td>NaN</td>\n",
       "    </tr>\n",
       "    <tr>\n",
       "      <th>1989-01-05</th>\n",
       "      <td>NaN</td>\n",
       "      <td>NaN</td>\n",
       "      <td>NaN</td>\n",
       "      <td>NaN</td>\n",
       "      <td>12.5</td>\n",
       "      <td>4.05</td>\n",
       "      <td>5.4</td>\n",
       "      <td>4.1</td>\n",
       "      <td>15.372</td>\n",
       "      <td>0.0</td>\n",
       "      <td>4.2</td>\n",
       "      <td>7.028</td>\n",
       "      <td>1621.0</td>\n",
       "      <td>100.53120</td>\n",
       "      <td>279.429993</td>\n",
       "      <td>92.980003</td>\n",
       "      <td>NaN</td>\n",
       "      <td>NaN</td>\n",
       "    </tr>\n",
       "    <tr>\n",
       "      <th>...</th>\n",
       "      <td>...</td>\n",
       "      <td>...</td>\n",
       "      <td>...</td>\n",
       "      <td>...</td>\n",
       "      <td>...</td>\n",
       "      <td>...</td>\n",
       "      <td>...</td>\n",
       "      <td>...</td>\n",
       "      <td>...</td>\n",
       "      <td>...</td>\n",
       "      <td>...</td>\n",
       "      <td>...</td>\n",
       "      <td>...</td>\n",
       "      <td>...</td>\n",
       "      <td>...</td>\n",
       "      <td>...</td>\n",
       "      <td>...</td>\n",
       "      <td>...</td>\n",
       "    </tr>\n",
       "    <tr>\n",
       "      <th>2023-11-30</th>\n",
       "      <td>NaN</td>\n",
       "      <td>NaN</td>\n",
       "      <td>NaN</td>\n",
       "      <td>8.5</td>\n",
       "      <td>6.0</td>\n",
       "      <td>3.64</td>\n",
       "      <td>3.9</td>\n",
       "      <td>5.2</td>\n",
       "      <td>15.972</td>\n",
       "      <td>0.0</td>\n",
       "      <td>3.5</td>\n",
       "      <td>1.511</td>\n",
       "      <td>1372.0</td>\n",
       "      <td>99.47179</td>\n",
       "      <td>4550.580078</td>\n",
       "      <td>102.769997</td>\n",
       "      <td>1.0</td>\n",
       "      <td>0.0</td>\n",
       "    </tr>\n",
       "    <tr>\n",
       "      <th>2023-12-01</th>\n",
       "      <td>NaN</td>\n",
       "      <td>NaN</td>\n",
       "      <td>NaN</td>\n",
       "      <td>8.5</td>\n",
       "      <td>6.0</td>\n",
       "      <td>3.64</td>\n",
       "      <td>3.9</td>\n",
       "      <td>5.2</td>\n",
       "      <td>15.972</td>\n",
       "      <td>0.0</td>\n",
       "      <td>3.5</td>\n",
       "      <td>1.511</td>\n",
       "      <td>1372.0</td>\n",
       "      <td>99.47179</td>\n",
       "      <td>4567.799805</td>\n",
       "      <td>103.500000</td>\n",
       "      <td>1.0</td>\n",
       "      <td>0.0</td>\n",
       "    </tr>\n",
       "    <tr>\n",
       "      <th>2023-12-02</th>\n",
       "      <td>NaN</td>\n",
       "      <td>NaN</td>\n",
       "      <td>NaN</td>\n",
       "      <td>8.5</td>\n",
       "      <td>6.0</td>\n",
       "      <td>3.64</td>\n",
       "      <td>3.9</td>\n",
       "      <td>5.2</td>\n",
       "      <td>15.972</td>\n",
       "      <td>0.0</td>\n",
       "      <td>3.5</td>\n",
       "      <td>1.511</td>\n",
       "      <td>1372.0</td>\n",
       "      <td>99.47179</td>\n",
       "      <td>4594.629883</td>\n",
       "      <td>103.269997</td>\n",
       "      <td>1.0</td>\n",
       "      <td>0.0</td>\n",
       "    </tr>\n",
       "    <tr>\n",
       "      <th>2023-12-03</th>\n",
       "      <td>NaN</td>\n",
       "      <td>NaN</td>\n",
       "      <td>NaN</td>\n",
       "      <td>8.5</td>\n",
       "      <td>6.0</td>\n",
       "      <td>3.64</td>\n",
       "      <td>3.9</td>\n",
       "      <td>5.2</td>\n",
       "      <td>15.972</td>\n",
       "      <td>0.0</td>\n",
       "      <td>3.5</td>\n",
       "      <td>1.511</td>\n",
       "      <td>1372.0</td>\n",
       "      <td>99.47179</td>\n",
       "      <td>4594.629883</td>\n",
       "      <td>103.269997</td>\n",
       "      <td>1.0</td>\n",
       "      <td>0.0</td>\n",
       "    </tr>\n",
       "    <tr>\n",
       "      <th>2023-12-04</th>\n",
       "      <td>NaN</td>\n",
       "      <td>NaN</td>\n",
       "      <td>NaN</td>\n",
       "      <td>8.5</td>\n",
       "      <td>6.0</td>\n",
       "      <td>3.64</td>\n",
       "      <td>3.9</td>\n",
       "      <td>5.2</td>\n",
       "      <td>15.972</td>\n",
       "      <td>0.0</td>\n",
       "      <td>3.5</td>\n",
       "      <td>1.511</td>\n",
       "      <td>1372.0</td>\n",
       "      <td>99.47179</td>\n",
       "      <td>4594.629883</td>\n",
       "      <td>103.269997</td>\n",
       "      <td>1.0</td>\n",
       "      <td>0.0</td>\n",
       "    </tr>\n",
       "  </tbody>\n",
       "</table>\n",
       "<p>12756 rows × 18 columns</p>\n",
       "</div>"
      ],
      "text/plain": [
       "            ffr  change  decision  loan  exports   pce   ue  rgdp    cars  \\\n",
       "1989-01-01  NaN     NaN       NaN   NaN      NaN   NaN  NaN   NaN     NaN   \n",
       "1989-01-02  NaN     NaN       NaN   NaN     12.5  4.05  5.4   4.1  15.372   \n",
       "1989-01-03  NaN     NaN       NaN   NaN     12.5  4.05  5.4   4.1  15.372   \n",
       "1989-01-04  NaN     NaN       NaN   NaN     12.5  4.05  5.4   4.1  15.372   \n",
       "1989-01-05  NaN     NaN       NaN   NaN     12.5  4.05  5.4   4.1  15.372   \n",
       "...         ...     ...       ...   ...      ...   ...  ...   ...     ...   \n",
       "2023-11-30  NaN     NaN       NaN   8.5      6.0  3.64  3.9   5.2  15.972   \n",
       "2023-12-01  NaN     NaN       NaN   8.5      6.0  3.64  3.9   5.2  15.972   \n",
       "2023-12-02  NaN     NaN       NaN   8.5      6.0  3.64  3.9   5.2  15.972   \n",
       "2023-12-03  NaN     NaN       NaN   8.5      6.0  3.64  3.9   5.2  15.972   \n",
       "2023-12-04  NaN     NaN       NaN   8.5      6.0  3.64  3.9   5.2  15.972   \n",
       "\n",
       "            recess  gdpg  veloc   house        cli          spx         usd  \\\n",
       "1989-01-01     NaN   NaN    NaN     NaN        NaN          NaN         NaN   \n",
       "1989-01-02     0.0   4.2  7.028  1621.0  100.53120          NaN         NaN   \n",
       "1989-01-03     0.0   4.2  7.028  1621.0  100.53120          NaN   92.500000   \n",
       "1989-01-04     0.0   4.2  7.028  1621.0  100.53120   275.309998   92.169998   \n",
       "1989-01-05     0.0   4.2  7.028  1621.0  100.53120   279.429993   92.980003   \n",
       "...            ...   ...    ...     ...        ...          ...         ...   \n",
       "2023-11-30     0.0   3.5  1.511  1372.0   99.47179  4550.580078  102.769997   \n",
       "2023-12-01     0.0   3.5  1.511  1372.0   99.47179  4567.799805  103.500000   \n",
       "2023-12-02     0.0   3.5  1.511  1372.0   99.47179  4594.629883  103.269997   \n",
       "2023-12-03     0.0   3.5  1.511  1372.0   99.47179  4594.629883  103.269997   \n",
       "2023-12-04     0.0   3.5  1.511  1372.0   99.47179  4594.629883  103.269997   \n",
       "\n",
       "            fed_party  potus_party  \n",
       "1989-01-01        NaN          NaN  \n",
       "1989-01-02        NaN          NaN  \n",
       "1989-01-03        NaN          NaN  \n",
       "1989-01-04        NaN          NaN  \n",
       "1989-01-05        NaN          NaN  \n",
       "...               ...          ...  \n",
       "2023-11-30        1.0          0.0  \n",
       "2023-12-01        1.0          0.0  \n",
       "2023-12-02        1.0          0.0  \n",
       "2023-12-03        1.0          0.0  \n",
       "2023-12-04        1.0          0.0  \n",
       "\n",
       "[12756 rows x 18 columns]"
      ]
     },
     "execution_count": 4,
     "metadata": {},
     "output_type": "execute_result"
    }
   ],
   "source": [
    "# properly read in data\n",
    "df = pd.read_csv('master_data.csv', index_col=0)\n",
    "df.index = pd.to_datetime(df.index)\n"
   ]
  },
  {
   "cell_type": "markdown",
   "source": [
    "We started off by importing the data and looking at the first few rows to get a sense of what we were working with. We also looked at the data types of each column to make sure they were what we expected. Then the first step was to see if the data had any noticable patterns. We did this by plotting the data and looking for any trends. A powerful tool we used is Factor Analysis of Mixed Data (FAMD). It combines the power of PCA and MCA to analyze mixed data (Data with numeric and categorical types). It is a great way to visualize the data and see if there are any patterns. We see this in the following plot:"
   ],
   "metadata": {
    "collapsed": false
   }
  },
  {
   "cell_type": "code",
   "execution_count": 7,
   "outputs": [],
   "source": [
    "import matplotlib.pyplot as plt\n",
    "from prince import FAMD\n",
    "import pandas as pd\n",
    "from sklearn.preprocessing import StandardScaler"
   ],
   "metadata": {
    "collapsed": false,
    "ExecuteTime": {
     "end_time": "2023-12-06T04:55:47.667719300Z",
     "start_time": "2023-12-06T04:55:47.652724600Z"
    }
   }
  },
  {
   "cell_type": "code",
   "execution_count": 3,
   "outputs": [],
   "source": [
    "# prep a df to be used for classifying\n",
    "# n_days is how many days prior to the announcement you want to forecast\n",
    "def forecast_n_days_prior(df, n_days = 7):\n",
    "    df_temp = df.copy()\n",
    "    df_temp.iloc[:,:3] = df_temp.iloc[:,:3].shift(-n_days)\n",
    "    return df_temp.query('ffr == ffr')"
   ],
   "metadata": {
    "collapsed": false,
    "ExecuteTime": {
     "end_time": "2023-12-06T04:54:43.277015500Z",
     "start_time": "2023-12-06T04:54:43.247031300Z"
    }
   }
  },
  {
   "cell_type": "code",
   "execution_count": 4,
   "outputs": [
    {
     "data": {
      "text/plain": "            ffr  change  decision  loan  exports   pce   ue  rgdp    cars  \\\n1989-01-01  NaN     NaN       NaN   NaN      NaN   NaN  NaN   NaN     NaN   \n1989-01-02  NaN     NaN       NaN   NaN     12.5  4.05  5.4   4.1  15.372   \n1989-01-03  NaN     NaN       NaN   NaN     12.5  4.05  5.4   4.1  15.372   \n1989-01-04  NaN     NaN       NaN   NaN     12.5  4.05  5.4   4.1  15.372   \n1989-01-05  NaN     NaN       NaN   NaN     12.5  4.05  5.4   4.1  15.372   \n...         ...     ...       ...   ...      ...   ...  ...   ...     ...   \n2023-11-30  NaN     NaN       NaN   8.5      6.0  3.64  3.9   5.2  15.972   \n2023-12-01  NaN     NaN       NaN   8.5      6.0  3.64  3.9   5.2  15.972   \n2023-12-02  NaN     NaN       NaN   8.5      6.0  3.64  3.9   5.2  15.972   \n2023-12-03  NaN     NaN       NaN   8.5      6.0  3.64  3.9   5.2  15.972   \n2023-12-04  NaN     NaN       NaN   8.5      6.0  3.64  3.9   5.2  15.972   \n\n            recess  gdpg  veloc   house        cli          spx         usd  \\\n1989-01-01     NaN   NaN    NaN     NaN        NaN          NaN         NaN   \n1989-01-02     0.0   4.2  7.028  1621.0  100.53120          NaN         NaN   \n1989-01-03     0.0   4.2  7.028  1621.0  100.53120          NaN   92.500000   \n1989-01-04     0.0   4.2  7.028  1621.0  100.53120   275.309998   92.169998   \n1989-01-05     0.0   4.2  7.028  1621.0  100.53120   279.429993   92.980003   \n...            ...   ...    ...     ...        ...          ...         ...   \n2023-11-30     0.0   3.5  1.511  1372.0   99.47179  4550.580078  102.769997   \n2023-12-01     0.0   3.5  1.511  1372.0   99.47179  4567.799805  103.500000   \n2023-12-02     0.0   3.5  1.511  1372.0   99.47179  4594.629883  103.269997   \n2023-12-03     0.0   3.5  1.511  1372.0   99.47179  4594.629883  103.269997   \n2023-12-04     0.0   3.5  1.511  1372.0   99.47179  4594.629883  103.269997   \n\n            fed_party  potus_party  \n1989-01-01        NaN          NaN  \n1989-01-02        NaN          NaN  \n1989-01-03        NaN          NaN  \n1989-01-04        NaN          NaN  \n1989-01-05        NaN          NaN  \n...               ...          ...  \n2023-11-30        1.0          0.0  \n2023-12-01        1.0          0.0  \n2023-12-02        1.0          0.0  \n2023-12-03        1.0          0.0  \n2023-12-04        1.0          0.0  \n\n[12756 rows x 18 columns]",
      "text/html": "<div>\n<style scoped>\n    .dataframe tbody tr th:only-of-type {\n        vertical-align: middle;\n    }\n\n    .dataframe tbody tr th {\n        vertical-align: top;\n    }\n\n    .dataframe thead th {\n        text-align: right;\n    }\n</style>\n<table border=\"1\" class=\"dataframe\">\n  <thead>\n    <tr style=\"text-align: right;\">\n      <th></th>\n      <th>ffr</th>\n      <th>change</th>\n      <th>decision</th>\n      <th>loan</th>\n      <th>exports</th>\n      <th>pce</th>\n      <th>ue</th>\n      <th>rgdp</th>\n      <th>cars</th>\n      <th>recess</th>\n      <th>gdpg</th>\n      <th>veloc</th>\n      <th>house</th>\n      <th>cli</th>\n      <th>spx</th>\n      <th>usd</th>\n      <th>fed_party</th>\n      <th>potus_party</th>\n    </tr>\n  </thead>\n  <tbody>\n    <tr>\n      <th>1989-01-01</th>\n      <td>NaN</td>\n      <td>NaN</td>\n      <td>NaN</td>\n      <td>NaN</td>\n      <td>NaN</td>\n      <td>NaN</td>\n      <td>NaN</td>\n      <td>NaN</td>\n      <td>NaN</td>\n      <td>NaN</td>\n      <td>NaN</td>\n      <td>NaN</td>\n      <td>NaN</td>\n      <td>NaN</td>\n      <td>NaN</td>\n      <td>NaN</td>\n      <td>NaN</td>\n      <td>NaN</td>\n    </tr>\n    <tr>\n      <th>1989-01-02</th>\n      <td>NaN</td>\n      <td>NaN</td>\n      <td>NaN</td>\n      <td>NaN</td>\n      <td>12.5</td>\n      <td>4.05</td>\n      <td>5.4</td>\n      <td>4.1</td>\n      <td>15.372</td>\n      <td>0.0</td>\n      <td>4.2</td>\n      <td>7.028</td>\n      <td>1621.0</td>\n      <td>100.53120</td>\n      <td>NaN</td>\n      <td>NaN</td>\n      <td>NaN</td>\n      <td>NaN</td>\n    </tr>\n    <tr>\n      <th>1989-01-03</th>\n      <td>NaN</td>\n      <td>NaN</td>\n      <td>NaN</td>\n      <td>NaN</td>\n      <td>12.5</td>\n      <td>4.05</td>\n      <td>5.4</td>\n      <td>4.1</td>\n      <td>15.372</td>\n      <td>0.0</td>\n      <td>4.2</td>\n      <td>7.028</td>\n      <td>1621.0</td>\n      <td>100.53120</td>\n      <td>NaN</td>\n      <td>92.500000</td>\n      <td>NaN</td>\n      <td>NaN</td>\n    </tr>\n    <tr>\n      <th>1989-01-04</th>\n      <td>NaN</td>\n      <td>NaN</td>\n      <td>NaN</td>\n      <td>NaN</td>\n      <td>12.5</td>\n      <td>4.05</td>\n      <td>5.4</td>\n      <td>4.1</td>\n      <td>15.372</td>\n      <td>0.0</td>\n      <td>4.2</td>\n      <td>7.028</td>\n      <td>1621.0</td>\n      <td>100.53120</td>\n      <td>275.309998</td>\n      <td>92.169998</td>\n      <td>NaN</td>\n      <td>NaN</td>\n    </tr>\n    <tr>\n      <th>1989-01-05</th>\n      <td>NaN</td>\n      <td>NaN</td>\n      <td>NaN</td>\n      <td>NaN</td>\n      <td>12.5</td>\n      <td>4.05</td>\n      <td>5.4</td>\n      <td>4.1</td>\n      <td>15.372</td>\n      <td>0.0</td>\n      <td>4.2</td>\n      <td>7.028</td>\n      <td>1621.0</td>\n      <td>100.53120</td>\n      <td>279.429993</td>\n      <td>92.980003</td>\n      <td>NaN</td>\n      <td>NaN</td>\n    </tr>\n    <tr>\n      <th>...</th>\n      <td>...</td>\n      <td>...</td>\n      <td>...</td>\n      <td>...</td>\n      <td>...</td>\n      <td>...</td>\n      <td>...</td>\n      <td>...</td>\n      <td>...</td>\n      <td>...</td>\n      <td>...</td>\n      <td>...</td>\n      <td>...</td>\n      <td>...</td>\n      <td>...</td>\n      <td>...</td>\n      <td>...</td>\n      <td>...</td>\n    </tr>\n    <tr>\n      <th>2023-11-30</th>\n      <td>NaN</td>\n      <td>NaN</td>\n      <td>NaN</td>\n      <td>8.5</td>\n      <td>6.0</td>\n      <td>3.64</td>\n      <td>3.9</td>\n      <td>5.2</td>\n      <td>15.972</td>\n      <td>0.0</td>\n      <td>3.5</td>\n      <td>1.511</td>\n      <td>1372.0</td>\n      <td>99.47179</td>\n      <td>4550.580078</td>\n      <td>102.769997</td>\n      <td>1.0</td>\n      <td>0.0</td>\n    </tr>\n    <tr>\n      <th>2023-12-01</th>\n      <td>NaN</td>\n      <td>NaN</td>\n      <td>NaN</td>\n      <td>8.5</td>\n      <td>6.0</td>\n      <td>3.64</td>\n      <td>3.9</td>\n      <td>5.2</td>\n      <td>15.972</td>\n      <td>0.0</td>\n      <td>3.5</td>\n      <td>1.511</td>\n      <td>1372.0</td>\n      <td>99.47179</td>\n      <td>4567.799805</td>\n      <td>103.500000</td>\n      <td>1.0</td>\n      <td>0.0</td>\n    </tr>\n    <tr>\n      <th>2023-12-02</th>\n      <td>NaN</td>\n      <td>NaN</td>\n      <td>NaN</td>\n      <td>8.5</td>\n      <td>6.0</td>\n      <td>3.64</td>\n      <td>3.9</td>\n      <td>5.2</td>\n      <td>15.972</td>\n      <td>0.0</td>\n      <td>3.5</td>\n      <td>1.511</td>\n      <td>1372.0</td>\n      <td>99.47179</td>\n      <td>4594.629883</td>\n      <td>103.269997</td>\n      <td>1.0</td>\n      <td>0.0</td>\n    </tr>\n    <tr>\n      <th>2023-12-03</th>\n      <td>NaN</td>\n      <td>NaN</td>\n      <td>NaN</td>\n      <td>8.5</td>\n      <td>6.0</td>\n      <td>3.64</td>\n      <td>3.9</td>\n      <td>5.2</td>\n      <td>15.972</td>\n      <td>0.0</td>\n      <td>3.5</td>\n      <td>1.511</td>\n      <td>1372.0</td>\n      <td>99.47179</td>\n      <td>4594.629883</td>\n      <td>103.269997</td>\n      <td>1.0</td>\n      <td>0.0</td>\n    </tr>\n    <tr>\n      <th>2023-12-04</th>\n      <td>NaN</td>\n      <td>NaN</td>\n      <td>NaN</td>\n      <td>8.5</td>\n      <td>6.0</td>\n      <td>3.64</td>\n      <td>3.9</td>\n      <td>5.2</td>\n      <td>15.972</td>\n      <td>0.0</td>\n      <td>3.5</td>\n      <td>1.511</td>\n      <td>1372.0</td>\n      <td>99.47179</td>\n      <td>4594.629883</td>\n      <td>103.269997</td>\n      <td>1.0</td>\n      <td>0.0</td>\n    </tr>\n  </tbody>\n</table>\n<p>12756 rows × 18 columns</p>\n</div>"
     },
     "execution_count": 4,
     "metadata": {},
     "output_type": "execute_result"
    }
   ],
   "source": [
    "# properly read in data\n",
    "df = pd.read_csv('master_data.csv', index_col=0)\n",
    "df.index = pd.to_datetime(df.index)\n",
    "df"
   ],
   "metadata": {
    "collapsed": false,
    "ExecuteTime": {
     "end_time": "2023-12-06T04:54:44.084249Z",
     "start_time": "2023-12-06T04:54:44.016769700Z"
    }
   }
  },
  {
   "cell_type": "code",
   "execution_count": 15,
   "outputs": [
    {
     "data": {
      "text/plain": "             ffr  change  decision   loan  exports   pce   ue  rgdp    cars  \\\n1989-06-30  9.25   -25.0      -1.0  11.00     18.7  4.13  5.3   3.1  14.384   \n1989-08-16  9.00     0.0       0.0  10.50      4.1  3.95  5.2   3.0  16.547   \n1989-09-27  9.00     0.0       0.0  10.50      4.1  3.80  5.3   3.0  15.660   \n1989-11-08  8.50     0.0       0.0  10.50      6.2  3.92  5.4   0.8  13.370   \n1989-12-13  8.25   -25.0      -1.0  10.50      6.2  3.94  5.4   0.8  13.550   \n...          ...     ...       ...    ...      ...   ...  ...   ...     ...   \n2023-04-26  5.15    25.0       1.0   8.00     -9.3  4.88  3.4   2.1  16.210   \n2023-06-07  5.15     0.0       0.0   8.25     -9.3  4.33  3.6   2.1  16.607   \n2023-07-19  5.40    25.0       1.0   8.25      6.0  4.17  3.5   5.2  16.446   \n2023-09-13  5.40     0.0       0.0   8.50      6.0  3.84  3.8   5.2  16.184   \n2023-10-25  5.40     0.0       0.0   8.50      6.0  3.64  3.9   5.2  15.972   \n\n            recess  gdpg  veloc   house       cli          spx         usd  \\\n1989-06-30     0.0   4.3  7.233  1397.0  99.79815   319.679993  102.339996   \n1989-08-16     0.0   3.0  7.307  1332.0  99.68832   344.709991  100.989998   \n1989-09-27     0.0   3.0  7.307  1279.0  99.69093   344.329987   99.199997   \n1989-11-08     0.0   2.9  7.283  1351.0  99.72887   334.809998   98.120003   \n1989-12-13     0.0   2.9  7.283  1251.0  99.75903   351.730011   94.660004   \n...            ...   ...    ...     ...       ...          ...         ...   \n2023-04-26     0.0   1.7  1.459  1348.0  98.89799  4071.629883  101.860001   \n2023-06-07     0.0   1.7  1.459  1418.0  99.11828  4283.850098  104.129997   \n2023-07-19     0.0   3.5  1.511  1451.0  99.24326  4554.979980   99.940002   \n2023-09-13     0.0   3.5  1.511  1346.0  99.42249  4461.899902  104.709999   \n2023-10-25     0.0   3.5  1.511  1372.0  99.47179  4247.680176  106.269997   \n\n            fed_party  potus_party  \n1989-06-30        1.0          1.0  \n1989-08-16        1.0          1.0  \n1989-09-27        1.0          1.0  \n1989-11-08        1.0          1.0  \n1989-12-13        1.0          1.0  \n...               ...          ...  \n2023-04-26        1.0          0.0  \n2023-06-07        1.0          0.0  \n2023-07-19        1.0          0.0  \n2023-09-13        1.0          0.0  \n2023-10-25        1.0          0.0  \n\n[276 rows x 18 columns]",
      "text/html": "<div>\n<style scoped>\n    .dataframe tbody tr th:only-of-type {\n        vertical-align: middle;\n    }\n\n    .dataframe tbody tr th {\n        vertical-align: top;\n    }\n\n    .dataframe thead th {\n        text-align: right;\n    }\n</style>\n<table border=\"1\" class=\"dataframe\">\n  <thead>\n    <tr style=\"text-align: right;\">\n      <th></th>\n      <th>ffr</th>\n      <th>change</th>\n      <th>decision</th>\n      <th>loan</th>\n      <th>exports</th>\n      <th>pce</th>\n      <th>ue</th>\n      <th>rgdp</th>\n      <th>cars</th>\n      <th>recess</th>\n      <th>gdpg</th>\n      <th>veloc</th>\n      <th>house</th>\n      <th>cli</th>\n      <th>spx</th>\n      <th>usd</th>\n      <th>fed_party</th>\n      <th>potus_party</th>\n    </tr>\n  </thead>\n  <tbody>\n    <tr>\n      <th>1989-06-30</th>\n      <td>9.25</td>\n      <td>-25.0</td>\n      <td>-1.0</td>\n      <td>11.00</td>\n      <td>18.7</td>\n      <td>4.13</td>\n      <td>5.3</td>\n      <td>3.1</td>\n      <td>14.384</td>\n      <td>0.0</td>\n      <td>4.3</td>\n      <td>7.233</td>\n      <td>1397.0</td>\n      <td>99.79815</td>\n      <td>319.679993</td>\n      <td>102.339996</td>\n      <td>1.0</td>\n      <td>1.0</td>\n    </tr>\n    <tr>\n      <th>1989-08-16</th>\n      <td>9.00</td>\n      <td>0.0</td>\n      <td>0.0</td>\n      <td>10.50</td>\n      <td>4.1</td>\n      <td>3.95</td>\n      <td>5.2</td>\n      <td>3.0</td>\n      <td>16.547</td>\n      <td>0.0</td>\n      <td>3.0</td>\n      <td>7.307</td>\n      <td>1332.0</td>\n      <td>99.68832</td>\n      <td>344.709991</td>\n      <td>100.989998</td>\n      <td>1.0</td>\n      <td>1.0</td>\n    </tr>\n    <tr>\n      <th>1989-09-27</th>\n      <td>9.00</td>\n      <td>0.0</td>\n      <td>0.0</td>\n      <td>10.50</td>\n      <td>4.1</td>\n      <td>3.80</td>\n      <td>5.3</td>\n      <td>3.0</td>\n      <td>15.660</td>\n      <td>0.0</td>\n      <td>3.0</td>\n      <td>7.307</td>\n      <td>1279.0</td>\n      <td>99.69093</td>\n      <td>344.329987</td>\n      <td>99.199997</td>\n      <td>1.0</td>\n      <td>1.0</td>\n    </tr>\n    <tr>\n      <th>1989-11-08</th>\n      <td>8.50</td>\n      <td>0.0</td>\n      <td>0.0</td>\n      <td>10.50</td>\n      <td>6.2</td>\n      <td>3.92</td>\n      <td>5.4</td>\n      <td>0.8</td>\n      <td>13.370</td>\n      <td>0.0</td>\n      <td>2.9</td>\n      <td>7.283</td>\n      <td>1351.0</td>\n      <td>99.72887</td>\n      <td>334.809998</td>\n      <td>98.120003</td>\n      <td>1.0</td>\n      <td>1.0</td>\n    </tr>\n    <tr>\n      <th>1989-12-13</th>\n      <td>8.25</td>\n      <td>-25.0</td>\n      <td>-1.0</td>\n      <td>10.50</td>\n      <td>6.2</td>\n      <td>3.94</td>\n      <td>5.4</td>\n      <td>0.8</td>\n      <td>13.550</td>\n      <td>0.0</td>\n      <td>2.9</td>\n      <td>7.283</td>\n      <td>1251.0</td>\n      <td>99.75903</td>\n      <td>351.730011</td>\n      <td>94.660004</td>\n      <td>1.0</td>\n      <td>1.0</td>\n    </tr>\n    <tr>\n      <th>...</th>\n      <td>...</td>\n      <td>...</td>\n      <td>...</td>\n      <td>...</td>\n      <td>...</td>\n      <td>...</td>\n      <td>...</td>\n      <td>...</td>\n      <td>...</td>\n      <td>...</td>\n      <td>...</td>\n      <td>...</td>\n      <td>...</td>\n      <td>...</td>\n      <td>...</td>\n      <td>...</td>\n      <td>...</td>\n      <td>...</td>\n    </tr>\n    <tr>\n      <th>2023-04-26</th>\n      <td>5.15</td>\n      <td>25.0</td>\n      <td>1.0</td>\n      <td>8.00</td>\n      <td>-9.3</td>\n      <td>4.88</td>\n      <td>3.4</td>\n      <td>2.1</td>\n      <td>16.210</td>\n      <td>0.0</td>\n      <td>1.7</td>\n      <td>1.459</td>\n      <td>1348.0</td>\n      <td>98.89799</td>\n      <td>4071.629883</td>\n      <td>101.860001</td>\n      <td>1.0</td>\n      <td>0.0</td>\n    </tr>\n    <tr>\n      <th>2023-06-07</th>\n      <td>5.15</td>\n      <td>0.0</td>\n      <td>0.0</td>\n      <td>8.25</td>\n      <td>-9.3</td>\n      <td>4.33</td>\n      <td>3.6</td>\n      <td>2.1</td>\n      <td>16.607</td>\n      <td>0.0</td>\n      <td>1.7</td>\n      <td>1.459</td>\n      <td>1418.0</td>\n      <td>99.11828</td>\n      <td>4283.850098</td>\n      <td>104.129997</td>\n      <td>1.0</td>\n      <td>0.0</td>\n    </tr>\n    <tr>\n      <th>2023-07-19</th>\n      <td>5.40</td>\n      <td>25.0</td>\n      <td>1.0</td>\n      <td>8.25</td>\n      <td>6.0</td>\n      <td>4.17</td>\n      <td>3.5</td>\n      <td>5.2</td>\n      <td>16.446</td>\n      <td>0.0</td>\n      <td>3.5</td>\n      <td>1.511</td>\n      <td>1451.0</td>\n      <td>99.24326</td>\n      <td>4554.979980</td>\n      <td>99.940002</td>\n      <td>1.0</td>\n      <td>0.0</td>\n    </tr>\n    <tr>\n      <th>2023-09-13</th>\n      <td>5.40</td>\n      <td>0.0</td>\n      <td>0.0</td>\n      <td>8.50</td>\n      <td>6.0</td>\n      <td>3.84</td>\n      <td>3.8</td>\n      <td>5.2</td>\n      <td>16.184</td>\n      <td>0.0</td>\n      <td>3.5</td>\n      <td>1.511</td>\n      <td>1346.0</td>\n      <td>99.42249</td>\n      <td>4461.899902</td>\n      <td>104.709999</td>\n      <td>1.0</td>\n      <td>0.0</td>\n    </tr>\n    <tr>\n      <th>2023-10-25</th>\n      <td>5.40</td>\n      <td>0.0</td>\n      <td>0.0</td>\n      <td>8.50</td>\n      <td>6.0</td>\n      <td>3.64</td>\n      <td>3.9</td>\n      <td>5.2</td>\n      <td>15.972</td>\n      <td>0.0</td>\n      <td>3.5</td>\n      <td>1.511</td>\n      <td>1372.0</td>\n      <td>99.47179</td>\n      <td>4247.680176</td>\n      <td>106.269997</td>\n      <td>1.0</td>\n      <td>0.0</td>\n    </tr>\n  </tbody>\n</table>\n<p>276 rows × 18 columns</p>\n</div>"
     },
     "execution_count": 15,
     "metadata": {},
     "output_type": "execute_result"
    }
   ],
   "source": [
    "# demonstration of function above\n",
    "# forecasts 1 week prior to announcement\n",
    "days_prior = forecast_n_days_prior(df, 7)\n",
    "days_prior"
   ],
   "metadata": {
    "collapsed": false,
    "ExecuteTime": {
     "end_time": "2023-12-06T05:03:25.438357900Z",
     "start_time": "2023-12-06T05:03:25.348657300Z"
    }
   }
  },
  {
   "cell_type": "markdown",
   "source": [
    "The modified Dataframe $days\\_prior$ is each row of the original Dataframe that occured $n$ days (in this case 7) before an announcement. Then the 'ffr' column is the target variable."
   ],
   "metadata": {
    "collapsed": false
   }
  },
  {
   "cell_type": "code",
   "execution_count": 9,
   "outputs": [],
   "source": [
    "# We split the df into numeric and categorical data\n",
    "df_numeric = days_prior.drop(['decision', 'recess', 'fed_party', 'potus_party'], axis=1)\n",
    "df_encoded = days_prior[['decision', 'recess', 'fed_party', 'potus_party']]\n",
    "\n",
    "# Then we scale the numeric data\n",
    "scaler = StandardScaler()\n",
    "df_numeric = scaler.fit_transform(df_numeric)\n",
    "df_numeric = pd.DataFrame(df_numeric, index=days_prior.index)\n",
    "\n",
    "# The function FAMD imported from prince requires categorical data to\n",
    "# Be of type 'object' so we convert it since it is already encoded\n",
    "df_categorical = df_encoded.astype(str)"
   ],
   "metadata": {
    "collapsed": false,
    "ExecuteTime": {
     "end_time": "2023-12-06T04:59:28.500497400Z",
     "start_time": "2023-12-06T04:59:28.436540500Z"
    }
   }
  },
  {
   "cell_type": "code",
   "execution_count": 10,
   "outputs": [],
   "source": [
    "# By combining the numeric and categorical data we can use FAMD\n",
    "days_prior_mixed = pd.concat([df_numeric, df_categorical], axis=1)"
   ],
   "metadata": {
    "collapsed": false,
    "ExecuteTime": {
     "end_time": "2023-12-06T04:59:28.892931700Z",
     "start_time": "2023-12-06T04:59:28.882110Z"
    }
   }
  },
  {
   "cell_type": "code",
   "execution_count": 11,
   "outputs": [
    {
     "data": {
      "text/plain": "          eigenvalue % of variance % of variance (cumulative)\ncomponent                                                    \n0              4.120        22.27%                     22.27%\n1              3.467        18.74%                     41.01%\n2              2.397        12.96%                     53.97%\n3              2.167        11.71%                     65.68%\n4              1.497         8.09%                     73.78%\n5              1.050         5.67%                     79.45%\n6              0.924         5.00%                     84.45%",
      "text/html": "<div>\n<style scoped>\n    .dataframe tbody tr th:only-of-type {\n        vertical-align: middle;\n    }\n\n    .dataframe tbody tr th {\n        vertical-align: top;\n    }\n\n    .dataframe thead th {\n        text-align: right;\n    }\n</style>\n<table border=\"1\" class=\"dataframe\">\n  <thead>\n    <tr style=\"text-align: right;\">\n      <th></th>\n      <th>eigenvalue</th>\n      <th>% of variance</th>\n      <th>% of variance (cumulative)</th>\n    </tr>\n    <tr>\n      <th>component</th>\n      <th></th>\n      <th></th>\n      <th></th>\n    </tr>\n  </thead>\n  <tbody>\n    <tr>\n      <th>0</th>\n      <td>4.120</td>\n      <td>22.27%</td>\n      <td>22.27%</td>\n    </tr>\n    <tr>\n      <th>1</th>\n      <td>3.467</td>\n      <td>18.74%</td>\n      <td>41.01%</td>\n    </tr>\n    <tr>\n      <th>2</th>\n      <td>2.397</td>\n      <td>12.96%</td>\n      <td>53.97%</td>\n    </tr>\n    <tr>\n      <th>3</th>\n      <td>2.167</td>\n      <td>11.71%</td>\n      <td>65.68%</td>\n    </tr>\n    <tr>\n      <th>4</th>\n      <td>1.497</td>\n      <td>8.09%</td>\n      <td>73.78%</td>\n    </tr>\n    <tr>\n      <th>5</th>\n      <td>1.050</td>\n      <td>5.67%</td>\n      <td>79.45%</td>\n    </tr>\n    <tr>\n      <th>6</th>\n      <td>0.924</td>\n      <td>5.00%</td>\n      <td>84.45%</td>\n    </tr>\n  </tbody>\n</table>\n</div>"
     },
     "execution_count": 11,
     "metadata": {},
     "output_type": "execute_result"
    }
   ],
   "source": [
    "X = days_prior_mixed.drop(['decision'], axis=1)\n",
    "y = days_prior_mixed['decision']\n",
    "\n",
    "famd = FAMD(n_components=7)\n",
    "X_famd = famd.fit_transform(X)\n",
    "\n",
    "# Eigenvalues_summary shows the variance explained by each component\n",
    "# Just like PCA or MCA alone.\n",
    "famd.eigenvalues_summary"
   ],
   "metadata": {
    "collapsed": false,
    "ExecuteTime": {
     "end_time": "2023-12-06T05:00:09.419727700Z",
     "start_time": "2023-12-06T05:00:09.203733400Z"
    }
   }
  },
  {
   "cell_type": "code",
   "execution_count": 29,
   "outputs": [
    {
     "data": {
      "text/plain": "<Figure size 640x480 with 2 Axes>",
      "image/png": "[encoded data removed]"
     },
     "metadata": {},
     "output_type": "display_data"
    }
   ],
   "source": [
    "# We now visualize the whole dataset in 2D\n",
    "plt.scatter(X_famd[:][1], X_famd[:][0], marker='.', c=y.astype(float), cmap=custom_cmap, label='Decision')\n",
    "plt.title('FAMD Analysis of Fed Data')\n",
    "plt.xlabel('PC2')\n",
    "plt.ylabel('PC1')\n",
    "plt.colorbar()\n",
    "plt.plot(X_famd[0][1], X_famd[0][0], label=\"line\")\n",
    "plt.legend(['Line 1', 'Line 2'])\n",
    "plt.show()"
   ],
   "metadata": {
    "collapsed": false,
    "ExecuteTime": {
     "end_time": "2023-12-06T05:25:33.918017800Z",
     "start_time": "2023-12-06T05:25:33.640829900Z"
    }
   }
  },
  {
   "cell_type": "code",
   "execution_count": 25,
   "outputs": [
    {
     "ename": "ValueError",
     "evalue": "A colormap named \"custom_colormap\" is already registered.",
     "output_type": "error",
     "traceback": [
      "\u001B[0;31m---------------------------------------------------------------------------\u001B[0m",
      "\u001B[0;31mValueError\u001B[0m                                Traceback (most recent call last)",
      "Cell \u001B[0;32mIn[25], line 16\u001B[0m\n\u001B[1;32m     14\u001B[0m cmap_name \u001B[38;5;241m=\u001B[39m \u001B[38;5;124m'\u001B[39m\u001B[38;5;124mcustom_colormap\u001B[39m\u001B[38;5;124m'\u001B[39m\n\u001B[1;32m     15\u001B[0m custom_cmap \u001B[38;5;241m=\u001B[39m LinearSegmentedColormap\u001B[38;5;241m.\u001B[39mfrom_list(cmap_name, colors, N\u001B[38;5;241m=\u001B[39mn_bins)\n\u001B[0;32m---> 16\u001B[0m \u001B[43mplt\u001B[49m\u001B[38;5;241;43m.\u001B[39;49m\u001B[43mregister_cmap\u001B[49m\u001B[43m(\u001B[49m\u001B[43mcmap\u001B[49m\u001B[38;5;241;43m=\u001B[39;49m\u001B[43mcustom_cmap\u001B[49m\u001B[43m)\u001B[49m\n\u001B[1;32m     18\u001B[0m \u001B[38;5;66;03m# Example plot using the custom colormap\u001B[39;00m\n\u001B[1;32m     19\u001B[0m data \u001B[38;5;241m=\u001B[39m [[\u001B[38;5;241m0\u001B[39m, \u001B[38;5;241m1\u001B[39m, \u001B[38;5;241m2\u001B[39m], [\u001B[38;5;241m1\u001B[39m, \u001B[38;5;241m2\u001B[39m, \u001B[38;5;241m0\u001B[39m], [\u001B[38;5;241m2\u001B[39m, \u001B[38;5;241m0\u001B[39m, \u001B[38;5;241m1\u001B[39m]]  \u001B[38;5;66;03m# Example data\u001B[39;00m\n",
      "File \u001B[0;32m~/.local/lib/python3.10/site-packages/matplotlib/_api/deprecation.py:200\u001B[0m, in \u001B[0;36mdeprecated.<locals>.deprecate.<locals>.wrapper\u001B[0;34m(*args, **kwargs)\u001B[0m\n\u001B[1;32m    198\u001B[0m \u001B[38;5;28;01mdef\u001B[39;00m \u001B[38;5;21mwrapper\u001B[39m(\u001B[38;5;241m*\u001B[39margs, \u001B[38;5;241m*\u001B[39m\u001B[38;5;241m*\u001B[39mkwargs):\n\u001B[1;32m    199\u001B[0m     emit_warning()\n\u001B[0;32m--> 200\u001B[0m     \u001B[38;5;28;01mreturn\u001B[39;00m \u001B[43mfunc\u001B[49m\u001B[43m(\u001B[49m\u001B[38;5;241;43m*\u001B[39;49m\u001B[43margs\u001B[49m\u001B[43m,\u001B[49m\u001B[43m \u001B[49m\u001B[38;5;241;43m*\u001B[39;49m\u001B[38;5;241;43m*\u001B[39;49m\u001B[43mkwargs\u001B[49m\u001B[43m)\u001B[49m\n",
      "File \u001B[0;32m~/.local/lib/python3.10/site-packages/matplotlib/cm.py:274\u001B[0m, in \u001B[0;36mregister_cmap\u001B[0;34m(name, cmap, override_builtin)\u001B[0m\n\u001B[1;32m    270\u001B[0m \u001B[38;5;66;03m# override_builtin is allowed here for backward compatibility\u001B[39;00m\n\u001B[1;32m    271\u001B[0m \u001B[38;5;66;03m# this is just a shim to enable that to work privately in\u001B[39;00m\n\u001B[1;32m    272\u001B[0m \u001B[38;5;66;03m# the global ColormapRegistry\u001B[39;00m\n\u001B[1;32m    273\u001B[0m _colormaps\u001B[38;5;241m.\u001B[39m_allow_override_builtin \u001B[38;5;241m=\u001B[39m override_builtin\n\u001B[0;32m--> 274\u001B[0m \u001B[43m_colormaps\u001B[49m\u001B[38;5;241;43m.\u001B[39;49m\u001B[43mregister\u001B[49m\u001B[43m(\u001B[49m\u001B[43mcmap\u001B[49m\u001B[43m,\u001B[49m\u001B[43m \u001B[49m\u001B[43mname\u001B[49m\u001B[38;5;241;43m=\u001B[39;49m\u001B[43mname\u001B[49m\u001B[43m,\u001B[49m\u001B[43m \u001B[49m\u001B[43mforce\u001B[49m\u001B[38;5;241;43m=\u001B[39;49m\u001B[43moverride_builtin\u001B[49m\u001B[43m)\u001B[49m\n\u001B[1;32m    275\u001B[0m _colormaps\u001B[38;5;241m.\u001B[39m_allow_override_builtin \u001B[38;5;241m=\u001B[39m \u001B[38;5;28;01mFalse\u001B[39;00m\n",
      "File \u001B[0;32m~/.local/lib/python3.10/site-packages/matplotlib/cm.py:143\u001B[0m, in \u001B[0;36mColormapRegistry.register\u001B[0;34m(self, cmap, name, force)\u001B[0m\n\u001B[1;32m    139\u001B[0m \u001B[38;5;28;01mif\u001B[39;00m name \u001B[38;5;129;01min\u001B[39;00m \u001B[38;5;28mself\u001B[39m:\n\u001B[1;32m    140\u001B[0m     \u001B[38;5;28;01mif\u001B[39;00m \u001B[38;5;129;01mnot\u001B[39;00m force:\n\u001B[1;32m    141\u001B[0m         \u001B[38;5;66;03m# don't allow registering an already existing cmap\u001B[39;00m\n\u001B[1;32m    142\u001B[0m         \u001B[38;5;66;03m# unless explicitly asked to\u001B[39;00m\n\u001B[0;32m--> 143\u001B[0m         \u001B[38;5;28;01mraise\u001B[39;00m \u001B[38;5;167;01mValueError\u001B[39;00m(\n\u001B[1;32m    144\u001B[0m             \u001B[38;5;124mf\u001B[39m\u001B[38;5;124m'\u001B[39m\u001B[38;5;124mA colormap named \u001B[39m\u001B[38;5;124m\"\u001B[39m\u001B[38;5;132;01m{\u001B[39;00mname\u001B[38;5;132;01m}\u001B[39;00m\u001B[38;5;124m\"\u001B[39m\u001B[38;5;124m is already registered.\u001B[39m\u001B[38;5;124m'\u001B[39m)\n\u001B[1;32m    145\u001B[0m     \u001B[38;5;28;01melif\u001B[39;00m (name \u001B[38;5;129;01min\u001B[39;00m \u001B[38;5;28mself\u001B[39m\u001B[38;5;241m.\u001B[39m_builtin_cmaps\n\u001B[1;32m    146\u001B[0m             \u001B[38;5;129;01mand\u001B[39;00m \u001B[38;5;129;01mnot\u001B[39;00m \u001B[38;5;28mself\u001B[39m\u001B[38;5;241m.\u001B[39m_allow_override_builtin):\n\u001B[1;32m    147\u001B[0m         \u001B[38;5;66;03m# We don't allow overriding a builtin unless privately\u001B[39;00m\n\u001B[1;32m    148\u001B[0m         \u001B[38;5;66;03m# coming from register_cmap()\u001B[39;00m\n\u001B[1;32m    149\u001B[0m         \u001B[38;5;28;01mraise\u001B[39;00m \u001B[38;5;167;01mValueError\u001B[39;00m(\u001B[38;5;124m\"\u001B[39m\u001B[38;5;124mRe-registering the builtin cmap \u001B[39m\u001B[38;5;124m\"\u001B[39m\n\u001B[1;32m    150\u001B[0m                          \u001B[38;5;124mf\u001B[39m\u001B[38;5;124m\"\u001B[39m\u001B[38;5;132;01m{\u001B[39;00mname\u001B[38;5;132;01m!r}\u001B[39;00m\u001B[38;5;124m is not allowed.\u001B[39m\u001B[38;5;124m\"\u001B[39m)\n",
      "\u001B[0;31mValueError\u001B[0m: A colormap named \"custom_colormap\" is already registered."
     ]
    }
   ],
   "source": [
    "import matplotlib.pyplot as plt\n",
    "from matplotlib.colors import LinearSegmentedColormap\n",
    "\n",
    "# Define three colors for the colormap\n",
    "color1 = 'blue'\n",
    "color2 = 'green'\n",
    "color3 = 'red'\n",
    "\n",
    "# Create a colormap with three distinct colors split into thirds\n",
    "colors = [color1, color2, color3]\n",
    "n_bins = 1000  # Number of bins for the colormap\n",
    "bounds = [0, 0.333, 0.666, 1.0]  # Splitting into thirds\n",
    "\n",
    "cmap_name = 'custom_colormap'\n",
    "custom_cmap = LinearSegmentedColormap.from_list(cmap_name, colors, N=n_bins)\n",
    "plt.register_cmap(cmap=custom_cmap)\n",
    "\n",
    "# Example plot using the custom colormap\n",
    "data = [[0, 1, 2], [1, 2, 0], [2, 0, 1]]  # Example data\n"
   ],
   "metadata": {
    "collapsed": false,
    "ExecuteTime": {
     "end_time": "2023-12-06T05:22:26.161907400Z",
     "start_time": "2023-12-06T05:22:26.082821Z"
    }
   }
  },
  {
   "cell_type": "markdown",
   "source": [
    "We see the data is very noisy, but does follow noticable patterns. The colors as shown in the colorbar. "
   ],
   "metadata": {
    "collapsed": false
   }
  },
  {
   "cell_type": "markdown",
   "metadata": {},
   "source": [
    "### Learning Algorithms and In-Depth Analysis"
   ]
  },
  {
   "cell_type": "markdown",
   "metadata": {},
   "source": [
    "### Ethical Implications\n",
    "\n",
    "We have attempted to develop a model for predicting changes in the federal funds rate based on available economic indicators. As mentioned previously, the ability to predict changes to this prevailing interest rate before FOMC announcement allows for making strategical decisions to minimize or eliminate losses. For example, a prior prediction of what will happen to interest rates might motivate an individual to move from a low-security job to a high-security job, choose to wait or to rush to get a loan, or sell and buy stocks prior to a big move in the stock market.\n",
    "\n",
    "Our intent and methodology raise a number of ethical issues. First, attempting to obtain an advantage through  information about the future inherently leads to others who do not share that information facing a disadvantage. For example, someone who has highly credible evidence to believe that the Federal Reserve will decrease the federal funds rate has incentive to sell stocks while keeping this information private so that others do not push the stock price down. Yet by not sharing that evidence, such an individual puts other investors in a more difficult place. Such moral grounds are the basis for material nonpublic information laws that prohibit using, sharing, or selling information about future company decisions that will affect stock prices to turn a profit (#A). While the information obtained through analysis such as that performed in this portfolio is not nearly as certain or exclusive (as the work we have done is highly reproducible), it is still important to acknowledge that successful attempts to predict the market in order to profit will inevitably result in someone losing in a zero-sum, competitive financial world.\n",
    "\n",
    "Another ethical consideration is the potential loss that could be incurred when too much trust is placed in the prediction of the change in the federal fund rate generated by a model such as ours. With so many factors being weighed and considered by the Federal Reserve, and with economic indicators being so numerous and complex, it is inconceivable that any model used to predict changes in the federal funds rate could have near-perfect accuracy. Those that do not understand the extreme uncertainty involved in both the inputs and outputs to the model are likely to pivot too far, opening themselves up to loss incurred when the actual Federal Reserve decision flies in the face of predictions. In making and sharing predictions, therefore, it is important that equal emphasis and care is placed to express the uncertainty of the outcome, as well as to acknowledge that despite warnings, many will take risks based on the predictions that may have severe economic consequences.\n",
    "\n",
    "Finally, it is important to note that our aim and methodology of predicting economic outcomes, when implemented and replicated on a large scale, may actually influence the outcomes themselves. Several times throughout history, the mere expectation of economic outcomes or a lack of faith in economic indicators have created economic disasters. For instance, in the events of Black Monday on October 19, 1987, the Dow Jones Industrial Average fell twenty percent in one day. The initial trigger was nervousness about possible overvaluation of stocks and the decline of the dollar, but the crisis was intensified by panic due to a lack of information as to what was happening (\"B\"). This episode and many others demonstrate that expectations or predictions of what will happen, whether grounded or totally unfounded, can often become a self-fulfilling prophecy. Thus it is possible that initially spurious relationships between economic indicators and interest rates mistakenly included or even emphasized in a model like this one might actually generate an unintended (and perhaps undesired) causal relationship, especially when machine learning is involved. Thus care must be taken to critically analyze how features are included, removed, or split on in such models, especially when destructive self-fulfilling feedback loops can have dramatic financial effects on millions across the country.  "
   ]
  },
  {
   "cell_type": "markdown",
   "metadata": {},
   "source": [
    "### Citations:\n",
    "A. https://www.investopedia.com/terms/m/materialinsiderinformation.asp\n",
    "\n",
    "B. https://en.wikipedia.org/wiki/Black_Monday_(1987)"
   ]
  },
  {
   "cell_type": "code",
   "execution_count": null,
   "metadata": {},
   "outputs": [],
   "source": []
  }
 ],
 "metadata": {
  "kernelspec": {
   "display_name": "Python 3",
   "language": "python",
   "name": "python3"
  },
  "language_info": {
   "codemirror_mode": {
    "name": "ipython",
    "version": 3
   },
   "file_extension": ".py",
   "mimetype": "text/x-python",
   "name": "python",
   "nbconvert_exporter": "python",
   "pygments_lexer": "ipython3",
   "version": "3.10.12"
  }
 },
 "nbformat": 4,
 "nbformat_minor": 2
}
