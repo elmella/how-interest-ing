{
 "cells": [
  {
   "cell_type": "markdown",
   "metadata": {},
   "source": [
    "# Data Portfolio: Predicting U.S. Interest Rate Change\n",
    "    Xander de la Bruere\n",
    "    Jakob Gertsch\n",
    "    Sam Layton\n",
    "    Matt Mella\n",
    "    Wilson Stoddard"
   ]
  },
  {
   "cell_type": "code",
   "execution_count": 2,
   "metadata": {},
   "outputs": [],
   "source": [
    "import numpy as np"
   ]
  },
  {
   "cell_type": "markdown",
   "metadata": {},
   "source": [
    "### Research Overview\n",
    "\n",
    "One of the most important influential metrics of the United States economy is the federal funds rate, commonly referred to as the interest rate. Technically speaking, the federal funds rate is the cost banks face to borrow money from other banks in order to meet overnight reserve requirements, but since banks \n"
   ]
  },
  {
   "cell_type": "code",
   "execution_count": null,
   "metadata": {},
   "outputs": [],
   "source": []
  }
 ],
 "metadata": {
  "kernelspec": {
   "display_name": "Python 3",
   "language": "python",
   "name": "python3"
  },
  "language_info": {
   "codemirror_mode": {
    "name": "ipython",
    "version": 3
   },
   "file_extension": ".py",
   "mimetype": "text/x-python",
   "name": "python",
   "nbconvert_exporter": "python",
   "pygments_lexer": "ipython3",
   "version": "3.10.12"
  }
 },
 "nbformat": 4,
 "nbformat_minor": 2
}
