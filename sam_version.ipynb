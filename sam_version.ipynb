{
 "cells": [
  {
   "cell_type": "code",
   "execution_count": 8,
   "metadata": {},
   "outputs": [],
   "source": [
    "import numpy as np\n",
    "import pandas as pd\n",
    "import matplotlib.pyplot as plt\n",
    "from sklearn import linear_model"
   ]
  },
  {
   "cell_type": "code",
   "execution_count": 9,
   "metadata": {},
   "outputs": [],
   "source": [
    "df = pd.read_csv('master_data.csv', index_col=0)\n",
    "df.index = pd.to_datetime(df.index)\n",
    "df = df.loc['1989-08-23':] #df = df.loc['1989-07-7':]\n",
    "df['mom'] = -df['mom_d'] + df['mom_u']\n",
    "df = df.drop(columns=['mom_u', 'mom_d'])\n",
    "df['label_day'] = ~df['decision'].isna()\n",
    "df = df.fillna(method='ffill')\n",
    "df = df.iloc[1:]\n",
    "df.to_csv('master_data_clean.csv')"
   ]
  },
  {
   "cell_type": "markdown",
   "metadata": {},
   "source": [
    "### To do...\n",
    "fix the decision column"
   ]
  },
  {
   "cell_type": "code",
   "execution_count": 10,
   "metadata": {},
   "outputs": [],
   "source": [
    "# define the columns\n",
    "monthly = ['pce','ue','cars','house','cli','prime','exports','rgdp','gdpd','veloc', 'ffr','mich']\n",
    "labels = ['decision', 'ffr']\n",
    "daily = ['spx','usd', ]\n",
    "categorical = ['fed_party','potus_party','recess', 'mom','change']"
   ]
  },
  {
   "cell_type": "code",
   "execution_count": 11,
   "metadata": {},
   "outputs": [
    {
     "data": {
      "text/plain": [
       "{'prime'}"
      ]
     },
     "metadata": {},
     "output_type": "display_data"
    },
    {
     "data": {
      "text/plain": [
       "{'label_day', 'loan'}"
      ]
     },
     "metadata": {},
     "output_type": "display_data"
    }
   ],
   "source": [
    "# union of all columns\n",
    "all_cols = monthly + daily + categorical + labels\n",
    "shared = set(df.columns.intersection(all_cols).to_list())\n",
    "df_cols = df.columns.to_list()\n",
    "\n",
    "# find the unique values of all_cols\n",
    "unique_ourlabels = {col if col not in shared else None for col in all_cols}\n",
    "unique_dflabels = {col if col not in shared else None for col in df_cols}\n",
    "unique_ourlabels.remove(None)\n",
    "unique_dflabels.remove(None)\n",
    "display(unique_ourlabels)\n",
    "display(unique_dflabels)\n",
    "\n"
   ]
  },
  {
   "cell_type": "code",
   "execution_count": 12,
   "metadata": {},
   "outputs": [],
   "source": [
    "# forward fill all nan values\n",
    "def collapse(df, key = 'label_day', start = 7, end = 60, cat_col = [], daily_col = [], other = [], labels = []):\n",
    "    # Get our different dataframes\n",
    "    categorical = df[cat_col]\n",
    "    daily = df[daily_col]\n",
    "    monthly = df[other]\n",
    "    keep = df[key]\n",
    "    labels = df[labels]\n",
    "\n",
    "    # create the windows\n",
    "    event_days = df[df[key]].index\n",
    "\n",
    "    ################## Handle Categorical and Label Data ##################\n",
    "    cat_collapsed = categorical[keep]\n",
    "    y_labels = labels[keep]\n",
    "\n",
    "    ################## Handle Monthly Data ##################\n",
    "    # Create event windows\n",
    "    windows = []\n",
    "    for day in event_days:\n",
    "        # Calculate start and end days of the window\n",
    "        start_day = day - pd.Timedelta(days=start)\n",
    "        end_day = day - pd.Timedelta(days=end)\n",
    "\n",
    "        # Ensure start_day is not before the start of the dataset\n",
    "        if end_day < df.index[0]:\n",
    "            end_day = df.index[0]\n",
    "\n",
    "        windows.append((start_day, end_day))\n",
    "\n",
    "    # Initialize a list to store aggregated data\n",
    "    aggregated_data = []\n",
    "\n",
    "    for (start_day, end_day) in windows:\n",
    "        # Select data within the window\n",
    "        window_data = monthly.loc[end_day:start_day]\n",
    "\n",
    "        # Apply your custom aggregation function\n",
    "        final_vals = window_data.loc[start_day]\n",
    "        change = final_vals - window_data.iloc[0]\n",
    "        # relabel the change columns to include a d_ prefix\n",
    "        change = change.rename(lambda x: 'd_' + x)\n",
    "\n",
    "        # concatenate the data horizontally\n",
    "        aggregated_window = pd.concat([final_vals, change], axis=0)\n",
    "        aggregated_data.append(aggregated_window)\n",
    "\n",
    "    # Combine aggregated data\n",
    "    aggregated_monthly = pd.concat(aggregated_data, axis=1).T\n",
    "    aggregated_monthly.index = event_days\n",
    "\n",
    "    ################## Handle Daily Data ##################\n",
    "    # define the model\n",
    "    model = linear_model.LinearRegression()\n",
    "    daily_agg = []\n",
    "\n",
    "    # Get the names of the features\n",
    "    daily_feat = daily.columns\n",
    "    b0_name = ['b0_' + feat for feat in daily_feat]\n",
    "    b1_name = ['b1_' + feat for feat in daily_feat]\n",
    "\n",
    "    for (start_day, end_day) in windows:\n",
    "        # Select data within the window\n",
    "        window_data = daily.loc[end_day:start_day]\n",
    "        time = np.arange(len(window_data)).reshape(-1, 1)\n",
    "\n",
    "        # Initialize lists to store betas for each feature\n",
    "        beta0 = []\n",
    "        beta1 = []\n",
    "\n",
    "        # Loop through each feature and fit the model\n",
    "        for feat in daily_feat:\n",
    "            model.fit(time, window_data[feat])\n",
    "            beta0.append(model.intercept_)\n",
    "            beta1.append(model.coef_[0])\n",
    "\n",
    "        # Create DataFrames for betas\n",
    "        beta0_df = pd.DataFrame([beta0], columns=b0_name)\n",
    "        beta1_df = pd.DataFrame([beta1], columns=b1_name)\n",
    "\n",
    "        # concatenate the data horizontally\n",
    "        aggregated_window = pd.concat([beta0_df, beta1_df], axis=1)\n",
    "        daily_agg.append(aggregated_window)\n",
    "\n",
    "    # Combine aggregated data\n",
    "    aggregated_daily = pd.concat(daily_agg, axis=0)\n",
    "    aggregated_daily.index = event_days\n",
    "\n",
    "    ################## Combine Data ##################\n",
    "    # Combine all data\n",
    "    combined = pd.concat([cat_collapsed, aggregated_monthly, aggregated_daily], axis=1)\n",
    "    return combined, y_labels"
   ]
  },
  {
   "cell_type": "code",
   "execution_count": 13,
   "metadata": {},
   "outputs": [],
   "source": [
    "date_ranges = [(7,60),(1,60),(7,120),(1,120)]"
   ]
  },
  {
   "cell_type": "code",
   "execution_count": 14,
   "metadata": {},
   "outputs": [
    {
     "ename": "KeyError",
     "evalue": "\"['prime'] not in index\"",
     "output_type": "error",
     "traceback": [
      "\u001b[0;31m---------------------------------------------------------------------------\u001b[0m",
      "\u001b[0;31mKeyError\u001b[0m                                  Traceback (most recent call last)",
      "\u001b[1;32m/Users/samlayton/Dropbox/Sam 2022/School/UnderGrad/2024/ACME/Projects/how-interest-ing/sam_version.ipynb Cell 9\u001b[0m line \u001b[0;36m3\n\u001b[1;32m      <a href='vscode-notebook-cell:/Users/samlayton/Dropbox/Sam%202022/School/UnderGrad/2024/ACME/Projects/how-interest-ing/sam_version.ipynb#X10sZmlsZQ%3D%3D?line=0'>1</a>\u001b[0m \u001b[39m# loop through the date ranges and save the data\u001b[39;00m\n\u001b[1;32m      <a href='vscode-notebook-cell:/Users/samlayton/Dropbox/Sam%202022/School/UnderGrad/2024/ACME/Projects/how-interest-ing/sam_version.ipynb#X10sZmlsZQ%3D%3D?line=1'>2</a>\u001b[0m \u001b[39mfor\u001b[39;00m dates \u001b[39min\u001b[39;00m date_ranges:\n\u001b[0;32m----> <a href='vscode-notebook-cell:/Users/samlayton/Dropbox/Sam%202022/School/UnderGrad/2024/ACME/Projects/how-interest-ing/sam_version.ipynb#X10sZmlsZQ%3D%3D?line=2'>3</a>\u001b[0m     beta_data, label_data \u001b[39m=\u001b[39m collapse(df, start \u001b[39m=\u001b[39;49m dates[\u001b[39m0\u001b[39;49m], end \u001b[39m=\u001b[39;49m dates[\u001b[39m1\u001b[39;49m], cat_col \u001b[39m=\u001b[39;49m categorical, daily_col \u001b[39m=\u001b[39;49m daily, other \u001b[39m=\u001b[39;49m monthly, labels \u001b[39m=\u001b[39;49m labels)\n\u001b[1;32m      <a href='vscode-notebook-cell:/Users/samlayton/Dropbox/Sam%202022/School/UnderGrad/2024/ACME/Projects/how-interest-ing/sam_version.ipynb#X10sZmlsZQ%3D%3D?line=3'>4</a>\u001b[0m     beta_data\u001b[39m.\u001b[39mto_csv(\u001b[39m'\u001b[39m\u001b[39mbeta_dates/beta_data_\u001b[39m\u001b[39m'\u001b[39m \u001b[39m+\u001b[39m \u001b[39mstr\u001b[39m(dates[\u001b[39m0\u001b[39m]) \u001b[39m+\u001b[39m \u001b[39m'\u001b[39m\u001b[39m_\u001b[39m\u001b[39m'\u001b[39m \u001b[39m+\u001b[39m \u001b[39mstr\u001b[39m(dates[\u001b[39m1\u001b[39m]) \u001b[39m+\u001b[39m \u001b[39m'\u001b[39m\u001b[39m.csv\u001b[39m\u001b[39m'\u001b[39m)\n\u001b[1;32m      <a href='vscode-notebook-cell:/Users/samlayton/Dropbox/Sam%202022/School/UnderGrad/2024/ACME/Projects/how-interest-ing/sam_version.ipynb#X10sZmlsZQ%3D%3D?line=4'>5</a>\u001b[0m label_data\u001b[39m.\u001b[39mto_csv(\u001b[39m'\u001b[39m\u001b[39mbeta_dates/true_labels.csv\u001b[39m\u001b[39m'\u001b[39m)\n",
      "\u001b[1;32m/Users/samlayton/Dropbox/Sam 2022/School/UnderGrad/2024/ACME/Projects/how-interest-ing/sam_version.ipynb Cell 9\u001b[0m line \u001b[0;36m6\n\u001b[1;32m      <a href='vscode-notebook-cell:/Users/samlayton/Dropbox/Sam%202022/School/UnderGrad/2024/ACME/Projects/how-interest-ing/sam_version.ipynb#X10sZmlsZQ%3D%3D?line=3'>4</a>\u001b[0m categorical \u001b[39m=\u001b[39m df[cat_col]\n\u001b[1;32m      <a href='vscode-notebook-cell:/Users/samlayton/Dropbox/Sam%202022/School/UnderGrad/2024/ACME/Projects/how-interest-ing/sam_version.ipynb#X10sZmlsZQ%3D%3D?line=4'>5</a>\u001b[0m daily \u001b[39m=\u001b[39m df[daily_col]\n\u001b[0;32m----> <a href='vscode-notebook-cell:/Users/samlayton/Dropbox/Sam%202022/School/UnderGrad/2024/ACME/Projects/how-interest-ing/sam_version.ipynb#X10sZmlsZQ%3D%3D?line=5'>6</a>\u001b[0m monthly \u001b[39m=\u001b[39m df[other]\n\u001b[1;32m      <a href='vscode-notebook-cell:/Users/samlayton/Dropbox/Sam%202022/School/UnderGrad/2024/ACME/Projects/how-interest-ing/sam_version.ipynb#X10sZmlsZQ%3D%3D?line=6'>7</a>\u001b[0m keep \u001b[39m=\u001b[39m df[key]\n\u001b[1;32m      <a href='vscode-notebook-cell:/Users/samlayton/Dropbox/Sam%202022/School/UnderGrad/2024/ACME/Projects/how-interest-ing/sam_version.ipynb#X10sZmlsZQ%3D%3D?line=7'>8</a>\u001b[0m labels \u001b[39m=\u001b[39m df[labels]\n",
      "File \u001b[0;32m/opt/homebrew/lib/python3.10/site-packages/pandas/core/frame.py:3813\u001b[0m, in \u001b[0;36mDataFrame.__getitem__\u001b[0;34m(self, key)\u001b[0m\n\u001b[1;32m   3811\u001b[0m     \u001b[39mif\u001b[39;00m is_iterator(key):\n\u001b[1;32m   3812\u001b[0m         key \u001b[39m=\u001b[39m \u001b[39mlist\u001b[39m(key)\n\u001b[0;32m-> 3813\u001b[0m     indexer \u001b[39m=\u001b[39m \u001b[39mself\u001b[39;49m\u001b[39m.\u001b[39;49mcolumns\u001b[39m.\u001b[39;49m_get_indexer_strict(key, \u001b[39m\"\u001b[39;49m\u001b[39mcolumns\u001b[39;49m\u001b[39m\"\u001b[39;49m)[\u001b[39m1\u001b[39m]\n\u001b[1;32m   3815\u001b[0m \u001b[39m# take() does not accept boolean indexers\u001b[39;00m\n\u001b[1;32m   3816\u001b[0m \u001b[39mif\u001b[39;00m \u001b[39mgetattr\u001b[39m(indexer, \u001b[39m\"\u001b[39m\u001b[39mdtype\u001b[39m\u001b[39m\"\u001b[39m, \u001b[39mNone\u001b[39;00m) \u001b[39m==\u001b[39m \u001b[39mbool\u001b[39m:\n",
      "File \u001b[0;32m/opt/homebrew/lib/python3.10/site-packages/pandas/core/indexes/base.py:6070\u001b[0m, in \u001b[0;36mIndex._get_indexer_strict\u001b[0;34m(self, key, axis_name)\u001b[0m\n\u001b[1;32m   6067\u001b[0m \u001b[39melse\u001b[39;00m:\n\u001b[1;32m   6068\u001b[0m     keyarr, indexer, new_indexer \u001b[39m=\u001b[39m \u001b[39mself\u001b[39m\u001b[39m.\u001b[39m_reindex_non_unique(keyarr)\n\u001b[0;32m-> 6070\u001b[0m \u001b[39mself\u001b[39;49m\u001b[39m.\u001b[39;49m_raise_if_missing(keyarr, indexer, axis_name)\n\u001b[1;32m   6072\u001b[0m keyarr \u001b[39m=\u001b[39m \u001b[39mself\u001b[39m\u001b[39m.\u001b[39mtake(indexer)\n\u001b[1;32m   6073\u001b[0m \u001b[39mif\u001b[39;00m \u001b[39misinstance\u001b[39m(key, Index):\n\u001b[1;32m   6074\u001b[0m     \u001b[39m# GH 42790 - Preserve name from an Index\u001b[39;00m\n",
      "File \u001b[0;32m/opt/homebrew/lib/python3.10/site-packages/pandas/core/indexes/base.py:6133\u001b[0m, in \u001b[0;36mIndex._raise_if_missing\u001b[0;34m(self, key, indexer, axis_name)\u001b[0m\n\u001b[1;32m   6130\u001b[0m     \u001b[39mraise\u001b[39;00m \u001b[39mKeyError\u001b[39;00m(\u001b[39mf\u001b[39m\u001b[39m\"\u001b[39m\u001b[39mNone of [\u001b[39m\u001b[39m{\u001b[39;00mkey\u001b[39m}\u001b[39;00m\u001b[39m] are in the [\u001b[39m\u001b[39m{\u001b[39;00maxis_name\u001b[39m}\u001b[39;00m\u001b[39m]\u001b[39m\u001b[39m\"\u001b[39m)\n\u001b[1;32m   6132\u001b[0m not_found \u001b[39m=\u001b[39m \u001b[39mlist\u001b[39m(ensure_index(key)[missing_mask\u001b[39m.\u001b[39mnonzero()[\u001b[39m0\u001b[39m]]\u001b[39m.\u001b[39munique())\n\u001b[0;32m-> 6133\u001b[0m \u001b[39mraise\u001b[39;00m \u001b[39mKeyError\u001b[39;00m(\u001b[39mf\u001b[39m\u001b[39m\"\u001b[39m\u001b[39m{\u001b[39;00mnot_found\u001b[39m}\u001b[39;00m\u001b[39m not in index\u001b[39m\u001b[39m\"\u001b[39m)\n",
      "\u001b[0;31mKeyError\u001b[0m: \"['prime'] not in index\""
     ]
    }
   ],
   "source": [
    "# loop through the date ranges and save the data\n",
    "for dates in date_ranges:\n",
    "    beta_data, label_data = collapse(df, start = dates[0], end = dates[1], cat_col = categorical, daily_col = daily, other = monthly, labels = labels)\n",
    "    beta_data.to_csv('beta_dates/beta_data_' + str(dates[0]) + '_' + str(dates[1]) + '.csv')\n",
    "label_data.to_csv('beta_dates/true_labels.csv')"
   ]
  }
 ],
 "metadata": {
  "kernelspec": {
   "display_name": "Python 3",
   "language": "python",
   "name": "python3"
  },
  "language_info": {
   "codemirror_mode": {
    "name": "ipython",
    "version": 3
   },
   "file_extension": ".py",
   "mimetype": "text/x-python",
   "name": "python",
   "nbconvert_exporter": "python",
   "pygments_lexer": "ipython3",
   "version": "3.10.13"
  }
 },
 "nbformat": 4,
 "nbformat_minor": 2
}
